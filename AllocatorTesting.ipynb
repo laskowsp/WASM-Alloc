{
 "cells": [
  {
   "cell_type": "code",
   "execution_count": 1,
   "metadata": {},
   "outputs": [
    {
     "name": "stdout",
     "output_type": "stream",
     "text": [
      "Importing Jupyter notebook from P0.ipynb\n",
      "Importing Jupyter notebook from SC.ipynb\n",
      "Importing Jupyter notebook from ST.ipynb\n"
     ]
    }
   ],
   "source": [
    "import nbimporter; nbimporter.options[\"only_defs\"] = False\n",
    "from P0 import compileString\n",
    "from ST import printSymTab\n",
    "import time\n",
    "\n",
    "# Pick an allocator config from this dictionary\n",
    "allocators = {    \n",
    "    \"FIRSTFIT\": {\"noMetrics\": \"./Allocator/FirstFitAllocator.wasm\", \"metrics\": \"./Allocator/FirstFitAllocatorMetrics.wasm\"},\n",
    "    \"BESTFIT\": {\"noMetrics\": \"./Allocator/BestFitAllocator.wasm\", \"metrics\": \"./Allocator/BestFitAllocatorMetrics.wasm\"},\n",
    "    \"BUDDY\": {\"noMetrics\": \"./Allocator/BuddyAllocator.wasm\", \"metrics\": \"./Allocator/BuddyAllocatorMetrics.wasm\"}\n",
    "}\n",
    "\n",
    "# Still need to compile the code with P0's compileString and save it to a file\n",
    "# Allocator is a string in the allocators dictionary\n",
    "def runFile(wasmfile, allocator):\n",
    "    import pywasm\n",
    "    plotPoints = {}\n",
    "    # Defines for the environment\n",
    "    def logdata(idx, val):\n",
    "        print(\"Called with\",idx,val)\n",
    "        plotPoints[idx] = val\n",
    "    if allocator not in allocators:\n",
    "        print(\"That is not a real allocator\")\n",
    "        return {}\n",
    "    allocator = allocators[allocator]\n",
    "    # Load both VMs now \n",
    "    noMetricVM = pywasm.load(allocator[\"noMetrics\"], {'env': {'logdata':logdata}})\n",
    "    metricVM = pywasm.load(allocator[\"metrics\"], {'env': {'logdata':logdata}})\n",
    "\n",
    "    def mallocNM(bytes):\n",
    "        x = noMetricVM.exec(\"malloc\",[bytes])\n",
    "        return x\n",
    "    def freeNM(addy):\n",
    "        noMetricVM.exec(\"free\",[addy])\n",
    "    def readAsIntNM(addy, offset):\n",
    "        return noMetricVM.exec(\"readAsInt\", [addy, offset])\n",
    "    def writeAsIntNM(value, addy, offset):\n",
    "        noMetricVM.exec(\"writeAsInt\", [addy, offset, value])\n",
    "    def writeAsIntArrayNM(addy, offset,value):\n",
    "        noMetricVM.exec(\"writeAsInt\", [addy, offset, value])\n",
    "\n",
    "    def mallocM(bytes):\n",
    "        x =  metricVM.exec(\"malloc\",[bytes])\n",
    "        return x\n",
    "    def freeM(addy):\n",
    "        metricVM.exec(\"free\",[addy])\n",
    "    def readAsIntM(addy, offset):\n",
    "        x =  metricVM.exec(\"readAsInt\", [addy, offset])\n",
    "        return x\n",
    "    def writeAsIntM(value, addy, offset):\n",
    "        metricVM.exec(\"writeAsInt\", [addy, offset, value])\n",
    "    def writeAsIntArrayM(addy, offset, value):\n",
    "        metricVM.exec(\"writeAsInt\", [addy, offset, value])\n",
    "\n",
    "    def write(x):\n",
    "        print(x,end=\"\")\n",
    "    def writeln():\n",
    "        print(\"\")\n",
    "    def read():\n",
    "        return int(input(\"Enter number: \"))\n",
    "\n",
    "    print(\"Running without metrics...\")\n",
    "    cTime = time.time()\n",
    "    vm1 = pywasm.load(wasmfile, {'P0lib': {'write': write, 'writeln': writeln, 'read': read, 'malloc':mallocNM, 'free':freeNM, 'readAsInt':readAsIntNM, 'writeAsInt':writeAsIntNM, 'writeAsIntArray':writeAsIntArrayNM}})\n",
    "    tTaken = time.time() - cTime\n",
    "    print(\"Running with metrics...\")\n",
    "    plotPoints = {} #Just in case...\n",
    "    print(plotPoints)\n",
    "    vm2 = pywasm.load(wasmfile, {'P0lib': {'write': write, 'writeln': writeln, 'read': read, 'malloc':mallocM, 'free':freeM, 'readAsInt':readAsIntM, 'writeAsInt':writeAsIntM, 'writeAsIntArray':writeAsIntArrayM}})\n",
    "    plotPoints[\"time\"] = tTaken\n",
    "    # Clean the dictionary to be more readably\n",
    "    if 1 not in plotPoints: plotPoints[1] = 0\n",
    "    plotPoints[\"numMemoryExpansions\"] = plotPoints[1]\n",
    "    del plotPoints[1]\n",
    "    if 2 not in plotPoints: plotPoints[2] = 32\n",
    "    plotPoints[\"heapSize\"] = plotPoints[2]\n",
    "    del plotPoints[2]\n",
    "    if 3 not in plotPoints: plotPoints[3] = 0\n",
    "    plotPoints[\"avgFreeBytesAtExpansion\"] = plotPoints[3]\n",
    "    del plotPoints[3]\n",
    "    return plotPoints\n",
    "\n",
    "def runpywasm(wasmfile):\n",
    "    import pywasm\n",
    "    def write(i): print(i)\n",
    "    def writeln(): print('\\n')\n",
    "    def read(): return int(input())\n",
    "    vm = pywasm.load(wasmfile, {'P0lib': {'write': write, 'writeln': writeln, 'read': read}})"
   ]
  },
  {
   "cell_type": "markdown",
   "metadata": {},
   "source": [
    "### Making this thing work:\n",
    "\n",
    "1. Compile the allocator WATs to wasms \n",
    "2. Call compileString from original P0 to compile your P0 code to a WAT\n",
    "3. wat2wasm that file \n",
    "4. Run it with runFile(wasm, allocator)"
   ]
  },
  {
   "cell_type": "code",
   "execution_count": 3,
   "metadata": {},
   "outputs": [
    {
     "name": "stderr",
     "output_type": "stream",
     "text": [
      "'wat2wasm' is not recognized as an internal or external command,\n",
      "operable program or batch file.\n",
      "'wat2wasm' is not recognized as an internal or external command,\n",
      "operable program or batch file.\n"
     ]
    }
   ],
   "source": [
    "!wat2wasm ./Allocator/FirstFitAllocator.wat\n",
    "!wat2wasm ./Allocator/FirstFitAllocatorMetrics.wat\n",
    "\n",
    "#This should work on McMaster's jhub instance, but evidently, not mine..."
   ]
  },
  {
   "cell_type": "code",
   "execution_count": 3,
   "metadata": {},
   "outputs": [
    {
     "name": "stdout",
     "output_type": "stream",
     "text": [
      "Importing Jupyter notebook from CGwat.ipynb\n",
      "Var(name = x, lev = 0, tp = ReferenceObj(Array(lower = 1, length = 3, base = <class 'ST.Int'>), elementSize = 4, size = 3, tp = <class 'ST.Int'>))\n",
      "ASSIG Ref(name = , lev = -1, tp = <class 'ST.Int'>) Const(name = , tp = <class 'ST.Int'>, val = 2)\n",
      "Var(name = x, lev = 0, tp = ReferenceObj(Array(lower = 1, length = 3, base = <class 'ST.Int'>), elementSize = 4, size = 3, tp = <class 'ST.Int'>))\n",
      "ASSIG Ref(name = , lev = -1, tp = <class 'ST.Int'>) Const(name = , tp = <class 'ST.Int'>, val = 3)\n",
      "Var(name = x, lev = 0, tp = ReferenceObj(Array(lower = 1, length = 3, base = <class 'ST.Int'>), elementSize = 4, size = 3, tp = <class 'ST.Int'>))\n",
      "Var(name = x, lev = 0, tp = ReferenceObj(Array(lower = 1, length = 3, base = <class 'ST.Int'>), elementSize = 4, size = 3, tp = <class 'ST.Int'>))\n",
      "Var(name = x, lev = 0, tp = ReferenceObj(Array(lower = 1, length = 3, base = <class 'ST.Int'>), elementSize = 4, size = 3, tp = <class 'ST.Int'>))\n",
      "ASSIG Ref(name = , lev = -1, tp = <class 'ST.Int'>) Var(name = , lev = -1, tp = <class 'ST.Int'>)\n",
      "Var(name = x, lev = 0, tp = ReferenceObj(Array(lower = 1, length = 3, base = <class 'ST.Int'>), elementSize = 4, size = 3, tp = <class 'ST.Int'>))\n",
      "fp tp <class 'ST.Int'>\n",
      "y tp <class 'ST.Int'>\n",
      "fp Var(name = , lev = , tp = <class 'ST.Int'>)\n"
     ]
    }
   ],
   "source": [
    "compileString(\"\"\"\n",
    "program p;\n",
    "  var x: reference array [1..3] of integer;\n",
    "  new(x);\n",
    "  begin x[1] := 2; x[2] := 3; x[3] := x[1] + x[2]; write(x[3]) end\n",
    "  free(x);\n",
    "\"\"\",\"testing.wat\", target='wat')\n"
   ]
  },
  {
   "cell_type": "code",
   "execution_count": 3,
   "metadata": {},
   "outputs": [
    {
     "name": "stdout",
     "output_type": "stream",
     "text": [
      "Var(name = x, lev = 0, tp = ReferenceObj(Array(lower = 1, length = 3, base = <class 'ST.Int'>), elementSize = 4, size = 3, tp = <class 'ST.Int'>))\n",
      "ASSIG Ref(name = , lev = -1, tp = <class 'ST.Int'>) Const(name = , tp = <class 'ST.Int'>, val = 2)\n",
      "Var(name = x, lev = 0, tp = ReferenceObj(Array(lower = 1, length = 3, base = <class 'ST.Int'>), elementSize = 4, size = 3, tp = <class 'ST.Int'>))\n",
      "ASSIG Ref(name = , lev = -1, tp = <class 'ST.Int'>) Const(name = , tp = <class 'ST.Int'>, val = 3)\n",
      "Var(name = x, lev = 0, tp = ReferenceObj(Array(lower = 1, length = 3, base = <class 'ST.Int'>), elementSize = 4, size = 3, tp = <class 'ST.Int'>))\n",
      "Var(name = x, lev = 0, tp = ReferenceObj(Array(lower = 1, length = 3, base = <class 'ST.Int'>), elementSize = 4, size = 3, tp = <class 'ST.Int'>))\n",
      "Var(name = x, lev = 0, tp = ReferenceObj(Array(lower = 1, length = 3, base = <class 'ST.Int'>), elementSize = 4, size = 3, tp = <class 'ST.Int'>))\n",
      "ASSIG Ref(name = , lev = -1, tp = <class 'ST.Int'>) Var(name = , lev = -1, tp = <class 'ST.Int'>)\n",
      "Var(name = x, lev = 0, tp = ReferenceObj(Array(lower = 1, length = 3, base = <class 'ST.Int'>), elementSize = 4, size = 3, tp = <class 'ST.Int'>))\n",
      "fp tp <class 'ST.Int'>\n",
      "y tp <class 'ST.Int'>\n",
      "fp Var(name = , lev = , tp = <class 'ST.Int'>)\n"
     ]
    }
   ],
   "source": [
    "#Testing\n",
    "# A general test case that will run quickly, to make sure the environment is set up properly\n",
    "compileString(\"\"\"\n",
    "program p;\n",
    "  var x: reference array [1..3] of integer;\n",
    "  new(x);\n",
    "  begin x[1] := 2; x[2] := 3; x[3] := x[1] + x[2]; write(x[3]) end\n",
    "  free(x);\n",
    "\"\"\",\"testing.wat\", target='wat')"
   ]
  },
  {
   "cell_type": "code",
   "execution_count": 4,
   "metadata": {},
   "outputs": [
    {
     "name": "stdout",
     "output_type": "stream",
     "text": [
      "Var(name = x, lev = 0, tp = ReferenceObj(Array(lower = 1, length = 2, base = <class 'ST.Int'>), elementSize = 4, size = 2, tp = <class 'ST.Int'>))\n",
      "ASSIG Ref(name = , lev = -1, tp = <class 'ST.Int'>) Const(name = , tp = <class 'ST.Int'>, val = 2)\n",
      "Var(name = x, lev = 0, tp = ReferenceObj(Array(lower = 1, length = 2, base = <class 'ST.Int'>), elementSize = 4, size = 2, tp = <class 'ST.Int'>))\n",
      "ASSIG Ref(name = , lev = -1, tp = <class 'ST.Int'>) Const(name = , tp = <class 'ST.Int'>, val = 3)\n",
      "Var(name = x, lev = 0, tp = ReferenceObj(Array(lower = 1, length = 2, base = <class 'ST.Int'>), elementSize = 4, size = 2, tp = <class 'ST.Int'>))\n",
      "Var(name = x, lev = 0, tp = ReferenceObj(Array(lower = 1, length = 2, base = <class 'ST.Int'>), elementSize = 4, size = 2, tp = <class 'ST.Int'>))\n",
      "ASSIG Ref(name = , lev = -1, tp = <class 'ST.Int'>) Ref(name = , lev = -1, tp = <class 'ST.Int'>)\n",
      "Var(name = x, lev = 0, tp = ReferenceObj(Array(lower = 1, length = 2, base = <class 'ST.Int'>), elementSize = 4, size = 2, tp = <class 'ST.Int'>))\n",
      "fp tp <class 'ST.Int'>\n",
      "y tp <class 'ST.Int'>\n",
      "fp Var(name = , lev = , tp = <class 'ST.Int'>)\n"
     ]
    }
   ],
   "source": [
    "#Testing2\n",
    "#the purpose of this test case is to make sure array allocation works as expected\n",
    "compileString(\"\"\"\n",
    "program p;\n",
    "  var x: reference array [1..2] of integer;\n",
    "  var y: reference array [1..2] of integer;\n",
    "  new(x);\n",
    "  new(y);\n",
    "  begin x[1] := 2; x[2] := 3; x[2] := x[1] ; write(x[2]) end\n",
    "  begin y[1] := 0; y[2] := 4; end\n",
    "  free(y);\n",
    "  free(x);\n",
    "\"\"\",\"testing2.wat\", target='wat')"
   ]
  },
  {
   "cell_type": "code",
   "execution_count": 23,
   "metadata": {},
   "outputs": [
    {
     "name": "stdout",
     "output_type": "stream",
     "text": [
      "Var(name = x, lev = 0, tp = ReferenceObj(Type(name = integer, val = <class 'ST.Int'>), elementSize = 4, size = 1, tp = <class 'ST.Int'>))\n",
      "ASSIG Var(name = x, lev = 0, tp = ReferenceObj(Type(name = integer, val = <class 'ST.Int'>), elementSize = 4, size = 1, tp = <class 'ST.Int'>)) Const(name = , tp = <class 'ST.Int'>, val = 0)\n",
      "Var(name = y, lev = 0, tp = <class 'ST.Int'>)\n",
      "ASSIG Var(name = y, lev = 0, tp = <class 'ST.Int'>) Const(name = , tp = <class 'ST.Int'>, val = 0)\n",
      "Var(name = y, lev = 0, tp = <class 'ST.Int'>)\n",
      "Var(name = y, lev = 0, tp = <class 'ST.Int'>)\n",
      "Var(name = y, lev = 0, tp = <class 'ST.Int'>)\n",
      "ASSIG Var(name = y, lev = 0, tp = <class 'ST.Int'>) Var(name = , lev = -1, tp = <class 'ST.Int'>)\n",
      "Var(name = x, lev = 0, tp = ReferenceObj(Type(name = integer, val = <class 'ST.Int'>), elementSize = 4, size = 1, tp = <class 'ST.Int'>))\n",
      "Var(name = y, lev = 0, tp = <class 'ST.Int'>)\n",
      "ASSIG Var(name = x, lev = 0, tp = ReferenceObj(Type(name = integer, val = <class 'ST.Int'>), elementSize = 4, size = 1, tp = <class 'ST.Int'>)) Var(name = y, lev = 0, tp = <class 'ST.Int'>)\n"
     ]
    }
   ],
   "source": [
    "#Testing3 \n",
    "#the purpose of this test case is to see how the algorithms respond to JUST allocation, no freeing\n",
    "compileString(\"\"\"\n",
    "program p;\n",
    "  var y: integer;\n",
    "  var x: reference integer;\n",
    "  new(x);\n",
    "  begin x := 0; y:= 0;\n",
    "   while y < 1500 do\n",
    "     begin y := y + 1; new(x); x:= y end\n",
    "   end;\n",
    "  end;\n",
    "\"\"\",\"testing3.wat\", target='wat')"
   ]
  },
  {
   "cell_type": "code",
   "execution_count": 51,
   "metadata": {},
   "outputs": [
    {
     "name": "stdout",
     "output_type": "stream",
     "text": [
      "Var(name = a1, lev = 0, tp = ReferenceObj(Array(lower = 1, length = 3, base = <class 'ST.Int'>), elementSize = 4, size = 3, tp = <class 'ST.Int'>))\n",
      "ASSIG Ref(name = , lev = -1, tp = <class 'ST.Int'>) Const(name = , tp = <class 'ST.Int'>, val = 2)\n",
      "Var(name = a1, lev = 0, tp = ReferenceObj(Array(lower = 1, length = 3, base = <class 'ST.Int'>), elementSize = 4, size = 3, tp = <class 'ST.Int'>))\n",
      "ASSIG Ref(name = , lev = -1, tp = <class 'ST.Int'>) Const(name = , tp = <class 'ST.Int'>, val = 3)\n",
      "Var(name = a1, lev = 0, tp = ReferenceObj(Array(lower = 1, length = 3, base = <class 'ST.Int'>), elementSize = 4, size = 3, tp = <class 'ST.Int'>))\n",
      "ASSIG Ref(name = , lev = -1, tp = <class 'ST.Int'>) Const(name = , tp = <class 'ST.Int'>, val = 1)\n"
     ]
    }
   ],
   "source": [
    "#Testing4\n",
    "#The purpose of this test case is to intersperse frees and allocations\n",
    "compileString(\"\"\"\n",
    "program p;\n",
    "  var x,y,z: reference integer;\n",
    "  var a1: reference array [1..3] of integer;\n",
    "  var a2: reference array [1..5] of integer;\n",
    "  new(x);\n",
    "  new(a1);\n",
    "  new(a2);\n",
    "  begin a1[1] := 2; a1[2] := 3; a1[3] := 1  end\n",
    "  begin a2[1] := 10; a2[2] := 1; a2[3] := 7 ; a2[4] := 8 ; a2[5] := 9   end\n",
    "  new(z);\n",
    "  free(a1);\n",
    "  while y < 4000 do\n",
    "     begin y := y + 1; free(x); new(a1); free(a2);new(y); free(z); free(a1); new(a1); a[1] := y; new(x); x:= y; free(a1); new(z) ; new(a2); new(y); new(a1) end\n",
    "   end;\n",
    "  y := 0;\n",
    "  while y < 4000 do\n",
    "     begin y := y + 1; new(x); free(a2); new(a1); new(z); new(a2); free(x); free(a1); new(x); new(a1); new(a2) end\n",
    "   end;\n",
    "\"\"\",\"testing4.wat\", target='wat')"
   ]
  },
  {
   "cell_type": "code",
   "execution_count": 26,
   "metadata": {},
   "outputs": [
    {
     "name": "stdout",
     "output_type": "stream",
     "text": [
      "Var(name = a1, lev = 0, tp = ReferenceObj(Array(lower = 1, length = 8, base = <class 'ST.Int'>), elementSize = 4, size = 8, tp = <class 'ST.Int'>))\n",
      "ASSIG Ref(name = , lev = -1, tp = <class 'ST.Int'>) Const(name = , tp = <class 'ST.Int'>, val = 2)\n",
      "Var(name = a1, lev = 0, tp = ReferenceObj(Array(lower = 1, length = 8, base = <class 'ST.Int'>), elementSize = 4, size = 8, tp = <class 'ST.Int'>))\n",
      "ASSIG Ref(name = , lev = -1, tp = <class 'ST.Int'>) Const(name = , tp = <class 'ST.Int'>, val = 3)\n",
      "Var(name = a1, lev = 0, tp = ReferenceObj(Array(lower = 1, length = 8, base = <class 'ST.Int'>), elementSize = 4, size = 8, tp = <class 'ST.Int'>))\n",
      "ASSIG Ref(name = , lev = -1, tp = <class 'ST.Int'>) Const(name = , tp = <class 'ST.Int'>, val = 1)\n"
     ]
    }
   ],
   "source": [
    "#Testing5\n",
    "compileString(\"\"\"\n",
    "program p;\n",
    "  var x,y,z: reference integer;\n",
    "  var a1: reference array [1..8] of integer;\n",
    "  var a2: reference array [1..16] of integer;\n",
    "  var a3: reference array [1..36] of integer;\n",
    "  new(x);\n",
    "  new(a1);\n",
    "  new(a2);\n",
    "  begin a1[1] := 2; a1[2] := 3; a1[3] := 1  end\n",
    "  begin a2[1] := 10; a2[2] := 1; a2[3] := 7 ; a2[4] := 8 ; a2[5] := 9   end\n",
    "  new(z);\n",
    "  free(a1);\n",
    "  while y < 1000 do\n",
    "     begin y := y + 1; new(a3); free(x); new(a1); free(a2);new(y); free(z); free(a1); new(a1); a[1] := y; new(x); x:= y; free(a1); new(z) ; new(a2); new(y); new(a1) end\n",
    "   end;\n",
    "  y := 0;\n",
    "  while y < 1000 do\n",
    "     begin y := y + 1; new(x); free(a2); new(a1); new(z); new(a2); free(x); new(a3); free(a1); new(x); new(a1); new(a2) end\n",
    "   end;\n",
    "\"\"\",\"testing5.wat\", target='wat')"
   ]
  },
  {
   "cell_type": "code",
   "execution_count": 2,
   "metadata": {},
   "outputs": [
    {
     "name": "stdout",
     "output_type": "stream",
     "text": [
      "Importing Jupyter notebook from CGwat.ipynb\n",
      "Expression returning Const(name = , tp = <class 'ST.Int'>, val = 1)\n",
      "Expression returning Const(name = , tp = <class 'ST.Int'>, val = 6)\n",
      "Expression returning Const(name = , tp = <class 'ST.Int'>, val = 1)\n",
      "Expression returning Const(name = , tp = <class 'ST.Int'>, val = 7)\n",
      "Expression returning Const(name = , tp = <class 'ST.Int'>, val = 1)\n",
      "Expression returning Const(name = , tp = <class 'ST.Int'>, val = 15)\n",
      "Expression returning Const(name = , tp = <class 'ST.Int'>, val = 1)\n",
      "Expression returning Const(name = , tp = <class 'ST.Int'>, val = 2)\n",
      "Var(name = a1, lev = 0, tp = ReferenceObj(Array(lower = 1, length = 6, base = <class 'ST.Int'>), elementSize = 4, size = 6, tp = <class 'ST.Int'>))\n",
      "Expression returning Const(name = , tp = <class 'ST.Int'>, val = 1)\n",
      "Expression returning Const(name = , tp = <class 'ST.Int'>, val = 1)\n",
      "ASSIG Ref(name = , lev = -1, tp = <class 'ST.Int'>) Const(name = , tp = <class 'ST.Int'>, val = 1)\n",
      "LoadItem called with Const(name = , tp = <class 'ST.Int'>, val = 1)\n",
      "Var(name = a1, lev = 0, tp = ReferenceObj(Array(lower = 1, length = 6, base = <class 'ST.Int'>), elementSize = 4, size = 6, tp = <class 'ST.Int'>))\n",
      "Expression returning Const(name = , tp = <class 'ST.Int'>, val = 5)\n",
      "Expression returning Const(name = , tp = <class 'ST.Int'>, val = 5)\n",
      "ASSIG Ref(name = , lev = -1, tp = <class 'ST.Int'>) Const(name = , tp = <class 'ST.Int'>, val = 5)\n",
      "LoadItem called with Const(name = , tp = <class 'ST.Int'>, val = 5)\n",
      "Var(name = x, lev = 0, tp = ReferenceObj(Type(name = integer, val = <class 'ST.Int'>), elementSize = 4, size = 1, tp = <class 'ST.Int'>))\n",
      "Expression returning Const(name = , tp = <class 'ST.Int'>, val = 1)\n",
      "ASSIG Var(name = x, lev = 0, tp = ReferenceObj(Type(name = integer, val = <class 'ST.Int'>), elementSize = 4, size = 1, tp = <class 'ST.Int'>)) Const(name = , tp = <class 'ST.Int'>, val = 1)\n",
      "LoadItem called with Const(name = , tp = <class 'ST.Int'>, val = 1)\n",
      "Var(name = y, lev = 0, tp = ReferenceObj(Type(name = integer, val = <class 'ST.Int'>), elementSize = 4, size = 1, tp = <class 'ST.Int'>))\n",
      "Expression returning Const(name = , tp = <class 'ST.Int'>, val = 5)\n",
      "ASSIG Var(name = y, lev = 0, tp = ReferenceObj(Type(name = integer, val = <class 'ST.Int'>), elementSize = 4, size = 1, tp = <class 'ST.Int'>)) Const(name = , tp = <class 'ST.Int'>, val = 5)\n",
      "LoadItem called with Const(name = , tp = <class 'ST.Int'>, val = 5)\n",
      "Var(name = a2, lev = 0, tp = ReferenceObj(Array(lower = 1, length = 7, base = <class 'ST.Int'>), elementSize = 4, size = 7, tp = <class 'ST.Int'>))\n",
      "Expression returning Const(name = , tp = <class 'ST.Int'>, val = 1)\n",
      "Expression returning Const(name = , tp = <class 'ST.Int'>, val = 1)\n",
      "ASSIG Ref(name = , lev = -1, tp = <class 'ST.Int'>) Const(name = , tp = <class 'ST.Int'>, val = 1)\n",
      "LoadItem called with Const(name = , tp = <class 'ST.Int'>, val = 1)\n",
      "Var(name = a2, lev = 0, tp = ReferenceObj(Array(lower = 1, length = 7, base = <class 'ST.Int'>), elementSize = 4, size = 7, tp = <class 'ST.Int'>))\n",
      "Expression returning Const(name = , tp = <class 'ST.Int'>, val = 7)\n",
      "Expression returning Const(name = , tp = <class 'ST.Int'>, val = 5)\n",
      "ASSIG Ref(name = , lev = -1, tp = <class 'ST.Int'>) Const(name = , tp = <class 'ST.Int'>, val = 5)\n",
      "LoadItem called with Const(name = , tp = <class 'ST.Int'>, val = 5)\n",
      "Var(name = a3, lev = 0, tp = ReferenceObj(Array(lower = 1, length = 15, base = <class 'ST.Int'>), elementSize = 4, size = 15, tp = <class 'ST.Int'>))\n",
      "Expression returning Const(name = , tp = <class 'ST.Int'>, val = 1)\n",
      "Expression returning Const(name = , tp = <class 'ST.Int'>, val = 2)\n",
      "ASSIG Ref(name = , lev = -1, tp = <class 'ST.Int'>) Const(name = , tp = <class 'ST.Int'>, val = 2)\n",
      "LoadItem called with Const(name = , tp = <class 'ST.Int'>, val = 2)\n",
      "Var(name = a3, lev = 0, tp = ReferenceObj(Array(lower = 1, length = 15, base = <class 'ST.Int'>), elementSize = 4, size = 15, tp = <class 'ST.Int'>))\n",
      "Expression returning Const(name = , tp = <class 'ST.Int'>, val = 15)\n",
      "Expression returning Const(name = , tp = <class 'ST.Int'>, val = 5)\n",
      "ASSIG Ref(name = , lev = -1, tp = <class 'ST.Int'>) Const(name = , tp = <class 'ST.Int'>, val = 5)\n",
      "LoadItem called with Const(name = , tp = <class 'ST.Int'>, val = 5)\n"
     ]
    }
   ],
   "source": [
    "#Testing6\n",
    "#As opposed to looping, this test case is for arrays of different sizes\n",
    "compileString(\"\"\"\n",
    "program p;\n",
    "  var x,y,z: reference integer;\n",
    "  var a1: reference array [1..6] of integer;\n",
    "  var a2: reference array [1..7] of integer;\n",
    "  var a3: reference array [1..15] of integer;\n",
    "  var a4: reference array [1..2] of integer;\n",
    "  begin \n",
    "   new(a1);\n",
    "   a1[1]:= 1;\n",
    "   a1[5] := 5;\n",
    "   new(x);\n",
    "   new(y);\n",
    "   x:= 1;\n",
    "   y:= 5;\n",
    "   new(a2);\n",
    "   a2[1]:= 1;\n",
    "   a2[7] := 5;\n",
    "   new(a3);\n",
    "   a3[1]:= 2;\n",
    "   a3[15] := 5;\n",
    "   free(a1);\n",
    "   new(z);\n",
    "   new(a4);\n",
    "   free(y);\n",
    "   new(a1);\n",
    "   new(a1);\n",
    "   new(a1);\n",
    "   free(z);\n",
    "   new(a1);\n",
    "   new(a1);\n",
    "   new(a1);\n",
    "   new(a1)\n",
    "  end\n",
    "\"\"\",\"testing6.wat\", target='wat')"
   ]
  },
  {
   "cell_type": "code",
   "execution_count": 10,
   "metadata": {},
   "outputs": [
    {
     "name": "stdout",
     "output_type": "stream",
     "text": [
      "Expression returning Const(name = , tp = <class 'ST.Int'>, val = 1)\n",
      "Expression returning Const(name = , tp = <class 'ST.Int'>, val = 6)\n",
      "Expression returning Const(name = , tp = <class 'ST.Int'>, val = 1)\n",
      "Expression returning Const(name = , tp = <class 'ST.Int'>, val = 7)\n",
      "Expression returning Const(name = , tp = <class 'ST.Int'>, val = 1)\n",
      "Expression returning Const(name = , tp = <class 'ST.Int'>, val = 15)\n",
      "Expression returning Const(name = , tp = <class 'ST.Int'>, val = 1)\n",
      "Expression returning Const(name = , tp = <class 'ST.Int'>, val = 2)\n",
      "Expression returning Const(name = , tp = <class 'ST.Int'>, val = 1)\n",
      "Expression returning Const(name = , tp = <class 'ST.Int'>, val = 20)\n",
      "Var(name = a1, lev = 0, tp = ReferenceObj(Array(lower = 1, length = 6, base = <class 'ST.Int'>), elementSize = 4, size = 6, tp = <class 'ST.Int'>))\n",
      "Expression returning Const(name = , tp = <class 'ST.Int'>, val = 1)\n",
      "Expression returning Const(name = , tp = <class 'ST.Int'>, val = 1)\n",
      "ASSIG Ref(name = , lev = -1, tp = <class 'ST.Int'>) Const(name = , tp = <class 'ST.Int'>, val = 1)\n",
      "LoadItem called with Const(name = , tp = <class 'ST.Int'>, val = 1)\n",
      "Var(name = a1, lev = 0, tp = ReferenceObj(Array(lower = 1, length = 6, base = <class 'ST.Int'>), elementSize = 4, size = 6, tp = <class 'ST.Int'>))\n",
      "Expression returning Const(name = , tp = <class 'ST.Int'>, val = 5)\n",
      "Expression returning Const(name = , tp = <class 'ST.Int'>, val = 5)\n",
      "ASSIG Ref(name = , lev = -1, tp = <class 'ST.Int'>) Const(name = , tp = <class 'ST.Int'>, val = 5)\n",
      "LoadItem called with Const(name = , tp = <class 'ST.Int'>, val = 5)\n",
      "Var(name = x, lev = 0, tp = ReferenceObj(Type(name = integer, val = <class 'ST.Int'>), elementSize = 4, size = 1, tp = <class 'ST.Int'>))\n",
      "Expression returning Const(name = , tp = <class 'ST.Int'>, val = 1)\n",
      "ASSIG Var(name = x, lev = 0, tp = ReferenceObj(Type(name = integer, val = <class 'ST.Int'>), elementSize = 4, size = 1, tp = <class 'ST.Int'>)) Const(name = , tp = <class 'ST.Int'>, val = 1)\n",
      "LoadItem called with Const(name = , tp = <class 'ST.Int'>, val = 1)\n",
      "Var(name = y, lev = 0, tp = ReferenceObj(Type(name = integer, val = <class 'ST.Int'>), elementSize = 4, size = 1, tp = <class 'ST.Int'>))\n",
      "Expression returning Const(name = , tp = <class 'ST.Int'>, val = 5)\n",
      "ASSIG Var(name = y, lev = 0, tp = ReferenceObj(Type(name = integer, val = <class 'ST.Int'>), elementSize = 4, size = 1, tp = <class 'ST.Int'>)) Const(name = , tp = <class 'ST.Int'>, val = 5)\n",
      "LoadItem called with Const(name = , tp = <class 'ST.Int'>, val = 5)\n",
      "Var(name = a2, lev = 0, tp = ReferenceObj(Array(lower = 1, length = 7, base = <class 'ST.Int'>), elementSize = 4, size = 7, tp = <class 'ST.Int'>))\n",
      "Expression returning Const(name = , tp = <class 'ST.Int'>, val = 1)\n",
      "Expression returning Const(name = , tp = <class 'ST.Int'>, val = 1)\n",
      "ASSIG Ref(name = , lev = -1, tp = <class 'ST.Int'>) Const(name = , tp = <class 'ST.Int'>, val = 1)\n",
      "LoadItem called with Const(name = , tp = <class 'ST.Int'>, val = 1)\n",
      "Var(name = a2, lev = 0, tp = ReferenceObj(Array(lower = 1, length = 7, base = <class 'ST.Int'>), elementSize = 4, size = 7, tp = <class 'ST.Int'>))\n",
      "Expression returning Const(name = , tp = <class 'ST.Int'>, val = 7)\n",
      "Expression returning Const(name = , tp = <class 'ST.Int'>, val = 5)\n",
      "ASSIG Ref(name = , lev = -1, tp = <class 'ST.Int'>) Const(name = , tp = <class 'ST.Int'>, val = 5)\n",
      "LoadItem called with Const(name = , tp = <class 'ST.Int'>, val = 5)\n",
      "Var(name = a3, lev = 0, tp = ReferenceObj(Array(lower = 1, length = 15, base = <class 'ST.Int'>), elementSize = 4, size = 15, tp = <class 'ST.Int'>))\n",
      "Expression returning Const(name = , tp = <class 'ST.Int'>, val = 1)\n",
      "Expression returning Const(name = , tp = <class 'ST.Int'>, val = 2)\n",
      "ASSIG Ref(name = , lev = -1, tp = <class 'ST.Int'>) Const(name = , tp = <class 'ST.Int'>, val = 2)\n",
      "LoadItem called with Const(name = , tp = <class 'ST.Int'>, val = 2)\n",
      "Var(name = a3, lev = 0, tp = ReferenceObj(Array(lower = 1, length = 15, base = <class 'ST.Int'>), elementSize = 4, size = 15, tp = <class 'ST.Int'>))\n",
      "Expression returning Const(name = , tp = <class 'ST.Int'>, val = 15)\n",
      "Expression returning Const(name = , tp = <class 'ST.Int'>, val = 5)\n",
      "ASSIG Ref(name = , lev = -1, tp = <class 'ST.Int'>) Const(name = , tp = <class 'ST.Int'>, val = 5)\n",
      "LoadItem called with Const(name = , tp = <class 'ST.Int'>, val = 5)\n",
      "Var(name = y, lev = 0, tp = ReferenceObj(Type(name = integer, val = <class 'ST.Int'>), elementSize = 4, size = 1, tp = <class 'ST.Int'>))\n",
      "LoadItem called with Var(name = y, lev = 0, tp = ReferenceObj(Type(name = integer, val = <class 'ST.Int'>), elementSize = 4, size = 1, tp = <class 'ST.Int'>))\n",
      "LoadItem called with Const(name = , tp = <class 'ST.Int'>, val = 4000)\n",
      "Expression returning Var(name = , lev = -1, tp = <class 'ST.Bool'>)\n",
      "GenDo called with Var(name = , lev = -1, tp = <class 'ST.Bool'>)\n",
      "LoadItem called with Var(name = , lev = -1, tp = <class 'ST.Bool'>)\n",
      "Var(name = y, lev = 0, tp = ReferenceObj(Type(name = integer, val = <class 'ST.Int'>), elementSize = 4, size = 1, tp = <class 'ST.Int'>))\n",
      "Var(name = y, lev = 0, tp = ReferenceObj(Type(name = integer, val = <class 'ST.Int'>), elementSize = 4, size = 1, tp = <class 'ST.Int'>))\n",
      "LoadItem called with Var(name = y, lev = 0, tp = ReferenceObj(Type(name = integer, val = <class 'ST.Int'>), elementSize = 4, size = 1, tp = <class 'ST.Int'>))\n",
      "LoadItem called with Const(name = , tp = <class 'ST.Int'>, val = 1)\n",
      "Expression returning Var(name = , lev = -1, tp = <class 'ST.Int'>)\n",
      "ASSIG Var(name = y, lev = 0, tp = ReferenceObj(Type(name = integer, val = <class 'ST.Int'>), elementSize = 4, size = 1, tp = <class 'ST.Int'>)) Var(name = , lev = -1, tp = <class 'ST.Int'>)\n"
     ]
    }
   ],
   "source": [
    "#Testing7\n",
    "#this test case is for different sized arrays \n",
    "compileString(\"\"\"\n",
    "program p;\n",
    "  var x,y,z: reference integer;\n",
    "  var a1: reference array [1..6] of integer;\n",
    "  var a2: reference array [1..7] of integer;\n",
    "  var a3: reference array [1..15] of integer;\n",
    "  var a4: reference array [1..2] of integer;\n",
    "  var a5: reference array [1..20] of integer;\n",
    "  begin \n",
    "   new(a1);\n",
    "   a1[1]:= 1;\n",
    "   a1[5] := 5;\n",
    "   new(x);\n",
    "   new(y);\n",
    "   new(a5);\n",
    "   x:= 1;\n",
    "   y:= 5;\n",
    "   new(a2);\n",
    "   a2[1]:= 1;\n",
    "   a2[7] := 5;\n",
    "   new(a3);\n",
    "   a3[1]:= 2;\n",
    "   a3[15] := 5;\n",
    "   free(a1);\n",
    "   new(z);\n",
    "   free(a5);\n",
    "   new(a4);\n",
    "   while y < 4000 do\n",
    "     begin y := y + 1; new(a4) end\n",
    "   end;\n",
    "   new(a1);\n",
    "   new(a1);\n",
    "   new(a5);\n",
    "   free(a1);\n",
    "   new(a1);\n",
    "   free(a5);\n",
    "   free(z);\n",
    "   new(a1);\n",
    "   new(a1);\n",
    "   new(z);\n",
    "   new(a5);\n",
    "   new(a1);\n",
    "   new(a1)\n",
    "  end\n",
    "\"\"\",\"testing7.wat\", target='wat')"
   ]
  },
  {
   "cell_type": "code",
   "execution_count": 32,
   "metadata": {},
   "outputs": [
    {
     "name": "stdout",
     "output_type": "stream",
     "text": [
      "Expression returning Const(name = , tp = <class 'ST.Int'>, val = 1)\n",
      "Expression returning Const(name = , tp = <class 'ST.Int'>, val = 4)\n",
      "Var(name = y, lev = 0, tp = <class 'ST.Int'>)\n",
      "Expression returning Const(name = , tp = <class 'ST.Int'>, val = 0)\n",
      "ASSIG Var(name = y, lev = 0, tp = <class 'ST.Int'>) Const(name = , tp = <class 'ST.Int'>, val = 0)\n",
      "LoadItem called with Const(name = , tp = <class 'ST.Int'>, val = 0)\n",
      "Var(name = y, lev = 0, tp = <class 'ST.Int'>)\n",
      "LoadItem called with Var(name = y, lev = 0, tp = <class 'ST.Int'>)\n",
      "LoadItem called with Const(name = , tp = <class 'ST.Int'>, val = 100)\n",
      "Expression returning Var(name = , lev = -1, tp = <class 'ST.Bool'>)\n",
      "GenDo called with Var(name = , lev = -1, tp = <class 'ST.Bool'>)\n",
      "LoadItem called with Var(name = , lev = -1, tp = <class 'ST.Bool'>)\n",
      "Var(name = y, lev = 0, tp = <class 'ST.Int'>)\n",
      "Var(name = y, lev = 0, tp = <class 'ST.Int'>)\n",
      "LoadItem called with Var(name = y, lev = 0, tp = <class 'ST.Int'>)\n",
      "LoadItem called with Const(name = , tp = <class 'ST.Int'>, val = 1)\n",
      "Expression returning Var(name = , lev = -1, tp = <class 'ST.Int'>)\n",
      "ASSIG Var(name = y, lev = 0, tp = <class 'ST.Int'>) Var(name = , lev = -1, tp = <class 'ST.Int'>)\n",
      "LoadItem called with Var(name = , lev = -1, tp = <class 'ST.Int'>)\n"
     ]
    }
   ],
   "source": [
    "#Testing8\n",
    "#aOOOefOOi\n",
    "#this test is intended to show the benefit of best fit over first fit\n",
    "#in practice, however it only serves to prove how similar they are\n",
    "compileString(\"\"\"\n",
    "program p;\n",
    "  var a,b,c,d,e,f,g,h,i : reference integer;\n",
    "  var y : integer;\n",
    "  var a1: reference array [1..4] of integer;\n",
    "  begin \n",
    "   y := 0;\n",
    "   while y < 100 do\n",
    "       begin y := y + 1; new(a); new(b); new(c); new(d); new(e); new(f); new(g); new(h); new(i); free(b); free(c); free(d); free(g); free(h); new(c); new(d); new(a1) end\n",
    "   end;\n",
    "end\n",
    "\"\"\",\"testing8.wat\", target='wat')"
   ]
  },
  {
   "cell_type": "code",
   "execution_count": 5,
   "metadata": {},
   "outputs": [
    {
     "ename": "NameError",
     "evalue": "name 'runFile' is not defined",
     "output_type": "error",
     "traceback": [
      "\u001b[1;31m---------------------------------------------------------------------------\u001b[0m",
      "\u001b[1;31mNameError\u001b[0m                                 Traceback (most recent call last)",
      "\u001b[1;32m<ipython-input-5-3bfad99de82d>\u001b[0m in \u001b[0;36m<module>\u001b[1;34m\u001b[0m\n\u001b[1;32m----> 1\u001b[1;33m \u001b[0mrunFile\u001b[0m\u001b[1;33m(\u001b[0m\u001b[1;34m\"testing.wasm\"\u001b[0m\u001b[1;33m,\u001b[0m\u001b[1;34m\"FIRSTFIT\"\u001b[0m\u001b[1;33m)\u001b[0m\u001b[1;33m\u001b[0m\u001b[1;33m\u001b[0m\u001b[0m\n\u001b[0m",
      "\u001b[1;31mNameError\u001b[0m: name 'runFile' is not defined"
     ]
    }
   ],
   "source": [
    "runFile(\"testing.wasm\",\"FIRSTFIT\")"
   ]
  },
  {
   "cell_type": "code",
   "execution_count": 10,
   "metadata": {},
   "outputs": [
    {
     "name": "stdout",
     "output_type": "stream",
     "text": [
      "Running without metrics...\n",
      "5Running with metrics...\n",
      "{}\n",
      "5"
     ]
    },
    {
     "data": {
      "text/plain": [
       "{'time': 0.0020341873168945312,\n",
       " 'numMemoryExpansions': 0,\n",
       " 'heapSize': 32,\n",
       " 'avgFreeBytesAtExpansion': 0}"
      ]
     },
     "execution_count": 10,
     "metadata": {},
     "output_type": "execute_result"
    }
   ],
   "source": [
    "runFile(\"testing.wasm\",\"BESTFIT\")"
   ]
  },
  {
   "cell_type": "code",
   "execution_count": 11,
   "metadata": {},
   "outputs": [
    {
     "name": "stdout",
     "output_type": "stream",
     "text": [
      "Running without metrics...\n",
      "5Running with metrics...\n",
      "{}\n",
      "5"
     ]
    },
    {
     "data": {
      "text/plain": [
       "{'time': 0.004040956497192383,\n",
       " 'numMemoryExpansions': 0,\n",
       " 'heapSize': 32,\n",
       " 'avgFreeBytesAtExpansion': 0}"
      ]
     },
     "execution_count": 11,
     "metadata": {},
     "output_type": "execute_result"
    }
   ],
   "source": [
    "runFile(\"testing.wasm\",\"BUDDY\")"
   ]
  },
  {
   "cell_type": "code",
   "execution_count": 12,
   "metadata": {},
   "outputs": [
    {
     "name": "stdout",
     "output_type": "stream",
     "text": [
      "Running without metrics...\n",
      "2Running with metrics...\n",
      "{}\n",
      "2"
     ]
    },
    {
     "data": {
      "text/plain": [
       "{'time': 0.002992868423461914,\n",
       " 'numMemoryExpansions': 0,\n",
       " 'heapSize': 32,\n",
       " 'avgFreeBytesAtExpansion': 0}"
      ]
     },
     "execution_count": 12,
     "metadata": {},
     "output_type": "execute_result"
    }
   ],
   "source": [
    "runFile(\"testing2.wasm\",\"FIRSTFIT\")"
   ]
  },
  {
   "cell_type": "code",
   "execution_count": 13,
   "metadata": {},
   "outputs": [
    {
     "name": "stdout",
     "output_type": "stream",
     "text": [
      "Running without metrics...\n",
      "2Running with metrics...\n",
      "{}\n",
      "2"
     ]
    },
    {
     "data": {
      "text/plain": [
       "{'time': 0.003021717071533203,\n",
       " 'numMemoryExpansions': 0,\n",
       " 'heapSize': 32,\n",
       " 'avgFreeBytesAtExpansion': 0}"
      ]
     },
     "execution_count": 13,
     "metadata": {},
     "output_type": "execute_result"
    }
   ],
   "source": [
    "runFile(\"testing2.wasm\",\"BESTFIT\")"
   ]
  },
  {
   "cell_type": "code",
   "execution_count": 14,
   "metadata": {},
   "outputs": [
    {
     "name": "stdout",
     "output_type": "stream",
     "text": [
      "Running without metrics...\n",
      "2Running with metrics...\n",
      "{}\n",
      "2"
     ]
    },
    {
     "data": {
      "text/plain": [
       "{'time': 0.005982398986816406,\n",
       " 'numMemoryExpansions': 0,\n",
       " 'heapSize': 32,\n",
       " 'avgFreeBytesAtExpansion': 0}"
      ]
     },
     "execution_count": 14,
     "metadata": {},
     "output_type": "execute_result"
    }
   ],
   "source": [
    "runFile(\"testing2.wasm\",\"BUDDY\")"
   ]
  },
  {
   "cell_type": "code",
   "execution_count": 15,
   "metadata": {},
   "outputs": [
    {
     "name": "stdout",
     "output_type": "stream",
     "text": [
      "Running without metrics...\n",
      "Running with metrics...\n",
      "{}\n",
      "Called with 1 1\n",
      "Called with 2 64\n",
      "Called with 3 8\n",
      "Called with 1 2\n",
      "Called with 2 128\n",
      "Called with 3 8\n",
      "Called with 1 3\n",
      "Called with 2 256\n",
      "Called with 3 8\n",
      "Called with 1 4\n",
      "Called with 2 512\n",
      "Called with 3 8\n",
      "Called with 1 5\n",
      "Called with 2 1024\n",
      "Called with 3 8\n",
      "Called with 1 6\n",
      "Called with 2 2048\n",
      "Called with 3 8\n",
      "Called with 1 7\n",
      "Called with 2 4096\n",
      "Called with 3 8\n",
      "Called with 1 8\n",
      "Called with 2 8192\n",
      "Called with 3 8\n",
      "Called with 1 9\n",
      "Called with 2 16384\n",
      "Called with 3 8\n"
     ]
    },
    {
     "data": {
      "text/plain": [
       "{'time': 134.79944729804993,\n",
       " 'numMemoryExpansions': 9,\n",
       " 'heapSize': 16384,\n",
       " 'avgFreeBytesAtExpansion': 8}"
      ]
     },
     "execution_count": 15,
     "metadata": {},
     "output_type": "execute_result"
    }
   ],
   "source": [
    "runFile(\"testing3.wasm\",\"FIRSTFIT\")"
   ]
  },
  {
   "cell_type": "code",
   "execution_count": 16,
   "metadata": {},
   "outputs": [
    {
     "name": "stdout",
     "output_type": "stream",
     "text": [
      "Running without metrics...\n",
      "Running with metrics...\n",
      "{}\n",
      "Called with 1 1\n",
      "Called with 2 64\n",
      "Called with 3 8\n",
      "Called with 1 2\n",
      "Called with 2 128\n",
      "Called with 3 8\n",
      "Called with 1 3\n",
      "Called with 2 256\n",
      "Called with 3 8\n",
      "Called with 1 4\n",
      "Called with 2 512\n",
      "Called with 3 8\n",
      "Called with 1 5\n",
      "Called with 2 1024\n",
      "Called with 3 8\n",
      "Called with 1 6\n",
      "Called with 2 2048\n",
      "Called with 3 8\n",
      "Called with 1 7\n",
      "Called with 2 4096\n",
      "Called with 3 8\n",
      "Called with 1 8\n",
      "Called with 2 8192\n",
      "Called with 3 8\n",
      "Called with 1 9\n",
      "Called with 2 16384\n",
      "Called with 3 8\n"
     ]
    },
    {
     "data": {
      "text/plain": [
       "{'time': 164.25622534751892,\n",
       " 'numMemoryExpansions': 9,\n",
       " 'heapSize': 16384,\n",
       " 'avgFreeBytesAtExpansion': 8}"
      ]
     },
     "execution_count": 16,
     "metadata": {},
     "output_type": "execute_result"
    }
   ],
   "source": [
    "runFile(\"testing3.wasm\",\"BESTFIT\")"
   ]
  },
  {
   "cell_type": "code",
   "execution_count": 17,
   "metadata": {},
   "outputs": [
    {
     "name": "stdout",
     "output_type": "stream",
     "text": [
      "Running without metrics...\n",
      "Running with metrics...\n",
      "{}\n",
      "Called with 1 1\n",
      "Called with 2 64\n",
      "Called with 3 0\n",
      "Called with 1 2\n",
      "Called with 2 128\n",
      "Called with 3 0\n",
      "Called with 1 3\n",
      "Called with 2 256\n",
      "Called with 3 0\n",
      "Called with 1 4\n",
      "Called with 2 512\n",
      "Called with 3 0\n",
      "Called with 1 5\n",
      "Called with 2 1024\n",
      "Called with 3 0\n",
      "Called with 1 6\n",
      "Called with 2 2048\n",
      "Called with 3 0\n",
      "Called with 1 7\n",
      "Called with 2 4096\n",
      "Called with 3 0\n",
      "Called with 1 8\n",
      "Called with 2 8192\n",
      "Called with 3 0\n"
     ]
    },
    {
     "data": {
      "text/plain": [
       "{'time': 417.40708351135254,\n",
       " 'numMemoryExpansions': 8,\n",
       " 'heapSize': 8192,\n",
       " 'avgFreeBytesAtExpansion': 0}"
      ]
     },
     "execution_count": 17,
     "metadata": {},
     "output_type": "execute_result"
    }
   ],
   "source": [
    "runFile(\"testing3.wasm\",\"BUDDY\")"
   ]
  },
  {
   "cell_type": "code",
   "execution_count": 5,
   "metadata": {},
   "outputs": [
    {
     "name": "stdout",
     "output_type": "stream",
     "text": [
      "Running without metrics...\n",
      "Running with metrics...\n",
      "{}\n",
      "Called with 1 1\n",
      "Called with 2 64\n",
      "Called with 3 8\n"
     ]
    },
    {
     "data": {
      "text/plain": [
       "{'time': 0.0029931068420410156,\n",
       " 'numMemoryExpansions': 1,\n",
       " 'heapSize': 64,\n",
       " 'avgFreeBytesAtExpansion': 8}"
      ]
     },
     "execution_count": 5,
     "metadata": {},
     "output_type": "execute_result"
    }
   ],
   "source": [
    "runFile(\"testing4.wasm\",\"FIRSTFIT\")"
   ]
  },
  {
   "cell_type": "code",
   "execution_count": 6,
   "metadata": {},
   "outputs": [
    {
     "name": "stdout",
     "output_type": "stream",
     "text": [
      "Running without metrics...\n",
      "Running with metrics...\n",
      "{}\n",
      "Called with 1 1\n",
      "Called with 2 64\n",
      "Called with 3 8\n"
     ]
    },
    {
     "data": {
      "text/plain": [
       "{'time': 0.003992795944213867,\n",
       " 'numMemoryExpansions': 1,\n",
       " 'heapSize': 64,\n",
       " 'avgFreeBytesAtExpansion': 8}"
      ]
     },
     "execution_count": 6,
     "metadata": {},
     "output_type": "execute_result"
    }
   ],
   "source": [
    "runFile(\"testing4.wasm\",\"BESTFIT\")"
   ]
  },
  {
   "cell_type": "code",
   "execution_count": 7,
   "metadata": {},
   "outputs": [
    {
     "name": "stdout",
     "output_type": "stream",
     "text": [
      "Running without metrics...\n",
      "Running with metrics...\n",
      "{}\n",
      "Called with 1 1\n",
      "Called with 2 64\n",
      "Called with 3 16\n"
     ]
    },
    {
     "data": {
      "text/plain": [
       "{'time': 0.006994724273681641,\n",
       " 'numMemoryExpansions': 1,\n",
       " 'heapSize': 64,\n",
       " 'avgFreeBytesAtExpansion': 16}"
      ]
     },
     "execution_count": 7,
     "metadata": {},
     "output_type": "execute_result"
    }
   ],
   "source": [
    "runFile(\"testing4.wasm\",\"BUDDY\")"
   ]
  },
  {
   "cell_type": "code",
   "execution_count": 8,
   "metadata": {},
   "outputs": [
    {
     "name": "stdout",
     "output_type": "stream",
     "text": [
      "Running without metrics...\n",
      "Running with metrics...\n",
      "{}\n",
      "Called with 1 1\n",
      "Called with 2 64\n",
      "Called with 3 24\n",
      "Called with 1 2\n",
      "Called with 2 128\n",
      "Called with 3 22\n"
     ]
    },
    {
     "data": {
      "text/plain": [
       "{'time': 0.003988981246948242,\n",
       " 'numMemoryExpansions': 2,\n",
       " 'heapSize': 128,\n",
       " 'avgFreeBytesAtExpansion': 22}"
      ]
     },
     "execution_count": 8,
     "metadata": {},
     "output_type": "execute_result"
    }
   ],
   "source": [
    "runFile(\"testing5.wasm\",\"FIRSTFIT\")"
   ]
  },
  {
   "cell_type": "code",
   "execution_count": 9,
   "metadata": {},
   "outputs": [
    {
     "name": "stdout",
     "output_type": "stream",
     "text": [
      "Running without metrics...\n",
      "Running with metrics...\n",
      "{}\n",
      "Called with 1 1\n",
      "Called with 2 64\n",
      "Called with 3 24\n",
      "Called with 1 2\n",
      "Called with 2 128\n",
      "Called with 3 22\n"
     ]
    },
    {
     "data": {
      "text/plain": [
       "{'time': 0.00302886962890625,\n",
       " 'numMemoryExpansions': 2,\n",
       " 'heapSize': 128,\n",
       " 'avgFreeBytesAtExpansion': 22}"
      ]
     },
     "execution_count": 9,
     "metadata": {},
     "output_type": "execute_result"
    }
   ],
   "source": [
    "runFile(\"testing5.wasm\",\"BESTFIT\")"
   ]
  },
  {
   "cell_type": "code",
   "execution_count": 10,
   "metadata": {},
   "outputs": [
    {
     "name": "stdout",
     "output_type": "stream",
     "text": [
      "Running without metrics...\n",
      "Running with metrics...\n",
      "{}\n",
      "Called with 1 1\n",
      "Called with 2 64\n",
      "Called with 3 28\n",
      "Called with 1 2\n",
      "Called with 2 128\n",
      "Called with 3 28\n"
     ]
    },
    {
     "data": {
      "text/plain": [
       "{'time': 0.00897073745727539,\n",
       " 'numMemoryExpansions': 2,\n",
       " 'heapSize': 128,\n",
       " 'avgFreeBytesAtExpansion': 28}"
      ]
     },
     "execution_count": 10,
     "metadata": {},
     "output_type": "execute_result"
    }
   ],
   "source": [
    "runFile(\"testing5.wasm\",\"BUDDY\")"
   ]
  },
  {
   "cell_type": "code",
   "execution_count": 2,
   "metadata": {},
   "outputs": [
    {
     "name": "stdout",
     "output_type": "stream",
     "text": [
      "Running without metrics...\n",
      "Running with metrics...\n",
      "{}\n",
      "Called with 1 1\n",
      "Called with 2 64\n",
      "Called with 3 4\n",
      "Called with 1 2\n",
      "Called with 2 128\n",
      "Called with 3 12\n",
      "Called with 1 3\n",
      "Called with 2 256\n",
      "Called with 3 25\n",
      "Called with 1 4\n",
      "Called with 2 512\n",
      "Called with 3 26\n"
     ]
    },
    {
     "data": {
      "text/plain": [
       "{'time': 0.017984867095947266,\n",
       " 'numMemoryExpansions': 4,\n",
       " 'heapSize': 512,\n",
       " 'avgFreeBytesAtExpansion': 26}"
      ]
     },
     "execution_count": 2,
     "metadata": {},
     "output_type": "execute_result"
    }
   ],
   "source": [
    "runFile(\"testing6.wasm\",\"FIRSTFIT\")"
   ]
  },
  {
   "cell_type": "code",
   "execution_count": 3,
   "metadata": {},
   "outputs": [
    {
     "name": "stdout",
     "output_type": "stream",
     "text": [
      "Running without metrics...\n",
      "Running with metrics...\n",
      "{}\n",
      "Called with 1 1\n",
      "Called with 2 64\n",
      "Called with 3 4\n",
      "Called with 1 2\n",
      "Called with 2 128\n",
      "Called with 3 12\n",
      "Called with 1 3\n",
      "Called with 2 256\n",
      "Called with 3 25\n",
      "Called with 1 4\n",
      "Called with 2 512\n",
      "Called with 3 26\n"
     ]
    },
    {
     "data": {
      "text/plain": [
       "{'time': 0.01898479461669922,\n",
       " 'numMemoryExpansions': 4,\n",
       " 'heapSize': 512,\n",
       " 'avgFreeBytesAtExpansion': 26}"
      ]
     },
     "execution_count": 3,
     "metadata": {},
     "output_type": "execute_result"
    }
   ],
   "source": [
    "runFile(\"testing6.wasm\",\"BESTFIT\")"
   ]
  },
  {
   "cell_type": "code",
   "execution_count": 4,
   "metadata": {},
   "outputs": [
    {
     "name": "stdout",
     "output_type": "stream",
     "text": [
      "Running without metrics...\n",
      "Running with metrics...\n",
      "{}\n",
      "Called with 1 1\n",
      "Called with 2 64\n",
      "Called with 3 8\n",
      "Called with 1 2\n",
      "Called with 2 128\n",
      "Called with 3 20\n",
      "Called with 1 3\n",
      "Called with 2 256\n",
      "Called with 3 36\n",
      "Called with 1 4\n",
      "Called with 2 512\n",
      "Called with 3 48\n"
     ]
    },
    {
     "data": {
      "text/plain": [
       "{'time': 0.050899505615234375,\n",
       " 'numMemoryExpansions': 4,\n",
       " 'heapSize': 512,\n",
       " 'avgFreeBytesAtExpansion': 48}"
      ]
     },
     "execution_count": 4,
     "metadata": {},
     "output_type": "execute_result"
    }
   ],
   "source": [
    "runFile(\"testing6.wasm\",\"BUDDY\")"
   ]
  },
  {
   "cell_type": "code",
   "execution_count": 2,
   "metadata": {},
   "outputs": [
    {
     "name": "stdout",
     "output_type": "stream",
     "text": [
      "Running without metrics...\n",
      "Running with metrics...\n",
      "{}\n",
      "Called with 1 1\n",
      "Called with 2 64\n",
      "Called with 3 4\n",
      "Called with 1 2\n",
      "Called with 1 3\n",
      "Called with 2 256\n",
      "Called with 3 8\n",
      "Called with 1 4\n",
      "Called with 2 512\n",
      "Called with 3 10\n",
      "Called with 1 5\n",
      "Called with 2 1024\n",
      "Called with 3 12\n",
      "Called with 1 6\n",
      "Called with 2 2048\n",
      "Called with 3 12\n",
      "Called with 1 7\n",
      "Called with 2 4096\n",
      "Called with 3 13\n",
      "Called with 1 8\n",
      "Called with 2 8192\n",
      "Called with 3 14\n",
      "Called with 1 9\n",
      "Called with 2 16384\n",
      "Called with 3 14\n"
     ]
    },
    {
     "data": {
      "text/plain": [
       "{'time': 60.10044741630554,\n",
       " 'numMemoryExpansions': 9,\n",
       " 'heapSize': 16384,\n",
       " 'avgFreeBytesAtExpansion': 14}"
      ]
     },
     "execution_count": 2,
     "metadata": {},
     "output_type": "execute_result"
    }
   ],
   "source": [
    "runFile(\"testing7.wasm\",\"FIRSTFIT\")"
   ]
  },
  {
   "cell_type": "code",
   "execution_count": 3,
   "metadata": {},
   "outputs": [
    {
     "name": "stdout",
     "output_type": "stream",
     "text": [
      "Running without metrics...\n",
      "Running with metrics...\n",
      "{}\n",
      "Called with 1 1\n",
      "Called with 2 64\n",
      "Called with 3 4\n",
      "Called with 1 2\n",
      "Called with 1 3\n",
      "Called with 2 256\n",
      "Called with 3 8\n",
      "Called with 1 4\n",
      "Called with 2 512\n",
      "Called with 3 10\n",
      "Called with 1 5\n",
      "Called with 2 1024\n",
      "Called with 3 12\n",
      "Called with 1 6\n",
      "Called with 2 2048\n",
      "Called with 3 12\n",
      "Called with 1 7\n",
      "Called with 2 4096\n",
      "Called with 3 13\n",
      "Called with 1 8\n",
      "Called with 2 8192\n",
      "Called with 3 14\n",
      "Called with 1 9\n",
      "Called with 2 16384\n",
      "Called with 3 14\n"
     ]
    },
    {
     "data": {
      "text/plain": [
       "{'time': 70.12833952903748,\n",
       " 'numMemoryExpansions': 9,\n",
       " 'heapSize': 16384,\n",
       " 'avgFreeBytesAtExpansion': 14}"
      ]
     },
     "execution_count": 3,
     "metadata": {},
     "output_type": "execute_result"
    }
   ],
   "source": [
    "runFile(\"testing7.wasm\",\"BESTFIT\")"
   ]
  },
  {
   "cell_type": "code",
   "execution_count": 4,
   "metadata": {},
   "outputs": [
    {
     "name": "stdout",
     "output_type": "stream",
     "text": [
      "Running without metrics...\n",
      "Running with metrics...\n",
      "{}\n",
      "Called with 1 1\n",
      "Called with 2 64\n",
      "Called with 3 8\n",
      "Called with 1 2\n",
      "Called with 2 128\n",
      "Called with 3 20\n",
      "Called with 1 3\n",
      "Called with 2 256\n",
      "Called with 3 45\n",
      "Called with 1 4\n",
      "Called with 2 512\n",
      "Called with 3 63\n",
      "Called with 1 5\n",
      "Called with 2 1024\n",
      "Called with 3 52\n",
      "Called with 1 6\n",
      "Called with 2 2048\n",
      "Called with 3 46\n",
      "Called with 1 7\n",
      "Called with 2 4096\n",
      "Called with 3 41\n",
      "Called with 1 8\n",
      "Called with 2 8192\n",
      "Called with 3 37\n"
     ]
    },
    {
     "data": {
      "text/plain": [
       "{'time': 197.40409326553345,\n",
       " 'numMemoryExpansions': 8,\n",
       " 'heapSize': 8192,\n",
       " 'avgFreeBytesAtExpansion': 37}"
      ]
     },
     "execution_count": 4,
     "metadata": {},
     "output_type": "execute_result"
    }
   ],
   "source": [
    "runFile(\"testing7.wasm\",\"BUDDY\")"
   ]
  },
  {
   "cell_type": "code",
   "execution_count": 28,
   "metadata": {},
   "outputs": [
    {
     "name": "stdout",
     "output_type": "stream",
     "text": [
      "Running without metrics...\n",
      "Running with metrics...\n",
      "{}\n",
      "Called with 1 1\n",
      "Called with 2 64\n",
      "Called with 3 8\n",
      "Called with 1 2\n",
      "Called with 2 128\n",
      "Called with 3 8\n",
      "Called with 1 3\n",
      "Called with 2 256\n",
      "Called with 3 6\n",
      "Called with 1 4\n",
      "Called with 2 512\n",
      "Called with 3 6\n",
      "Called with 1 5\n",
      "Called with 2 1024\n",
      "Called with 3 5\n",
      "Called with 1 6\n",
      "Called with 2 2048\n",
      "Called with 3 6\n",
      "Called with 1 7\n",
      "Called with 2 4096\n",
      "Called with 3 9\n",
      "Called with 1 8\n",
      "Called with 2 8192\n",
      "Called with 3 12\n"
     ]
    },
    {
     "data": {
      "text/plain": [
       "{'time': 165.1778118610382,\n",
       " 'numMemoryExpansions': 8,\n",
       " 'heapSize': 8192,\n",
       " 'avgFreeBytesAtExpansion': 12}"
      ]
     },
     "execution_count": 28,
     "metadata": {},
     "output_type": "execute_result"
    }
   ],
   "source": [
    "runFile(\"testing8.wasm\",\"FIRSTFIT\")"
   ]
  },
  {
   "cell_type": "code",
   "execution_count": 30,
   "metadata": {},
   "outputs": [
    {
     "name": "stdout",
     "output_type": "stream",
     "text": [
      "Running without metrics...\n",
      "Running with metrics...\n",
      "{}\n",
      "Called with 1 1\n",
      "Called with 2 64\n",
      "Called with 3 8\n",
      "Called with 1 2\n",
      "Called with 2 128\n",
      "Called with 3 8\n",
      "Called with 1 3\n",
      "Called with 2 256\n",
      "Called with 3 9\n",
      "Called with 1 4\n",
      "Called with 2 512\n",
      "Called with 3 12\n",
      "Called with 1 5\n",
      "Called with 2 1024\n",
      "Called with 3 16\n",
      "Called with 1 6\n",
      "Called with 2 2048\n",
      "Called with 3 24\n",
      "Called with 1 7\n",
      "Called with 2 4096\n",
      "Called with 3 38\n",
      "Called with 1 8\n",
      "Called with 2 8192\n",
      "Called with 3 62\n"
     ]
    },
    {
     "data": {
      "text/plain": [
       "{'time': 159.10561609268188,\n",
       " 'numMemoryExpansions': 8,\n",
       " 'heapSize': 8192,\n",
       " 'avgFreeBytesAtExpansion': 62}"
      ]
     },
     "execution_count": 30,
     "metadata": {},
     "output_type": "execute_result"
    }
   ],
   "source": [
    "runFile(\"testing8.wasm\",\"BESTFIT\")"
   ]
  },
  {
   "cell_type": "code",
   "execution_count": 31,
   "metadata": {},
   "outputs": [
    {
     "name": "stdout",
     "output_type": "stream",
     "text": [
      "Running without metrics...\n",
      "Running with metrics...\n",
      "{}\n",
      "Called with 1 1\n",
      "Called with 2 64\n",
      "Called with 3 0\n",
      "Called with 1 2\n",
      "Called with 2 128\n",
      "Called with 3 0\n",
      "Called with 1 3\n",
      "Called with 2 256\n",
      "Called with 3 8\n",
      "Called with 1 4\n",
      "Called with 2 512\n",
      "Called with 3 6\n",
      "Called with 1 5\n",
      "Called with 2 1024\n",
      "Called with 3 4\n",
      "Called with 1 6\n",
      "Called with 2 2048\n",
      "Called with 3 4\n",
      "Called with 1 7\n",
      "Called with 2 4096\n",
      "Called with 3 6\n"
     ]
    },
    {
     "data": {
      "text/plain": [
       "{'time': 368.2391891479492,\n",
       " 'numMemoryExpansions': 7,\n",
       " 'heapSize': 4096,\n",
       " 'avgFreeBytesAtExpansion': 6}"
      ]
     },
     "execution_count": 31,
     "metadata": {},
     "output_type": "execute_result"
    }
   ],
   "source": [
    "runFile(\"testing8.wasm\",\"BUDDY\")"
   ]
  },
  {
   "cell_type": "code",
   "execution_count": null,
   "metadata": {},
   "outputs": [],
   "source": []
  }
 ],
 "metadata": {
  "kernelspec": {
   "display_name": "Python 3",
   "language": "python",
   "name": "python3"
  },
  "language_info": {
   "codemirror_mode": {
    "name": "ipython",
    "version": 3
   },
   "file_extension": ".py",
   "mimetype": "text/x-python",
   "name": "python",
   "nbconvert_exporter": "python",
   "pygments_lexer": "ipython3",
   "version": "3.7.6"
  }
 },
 "nbformat": 4,
 "nbformat_minor": 4
}
