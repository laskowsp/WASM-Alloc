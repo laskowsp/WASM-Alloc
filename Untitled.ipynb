{
 "cells": [
  {
   "cell_type": "code",
   "execution_count": 5,
   "metadata": {},
   "outputs": [],
   "source": [
    "import nbimporter; nbimporter.options[\"only_defs\"] = False\n",
    "from P0 import compileString\n",
    "from ST import printSymTab\n",
    "\n",
    "# Pick an allocator config from this dictionary\n",
    "allocators = {    \n",
    "    \"FIRSTFIT\": {\"noMetrics\": \"./Allocator/FirstFitAllocator.wasm\", \"metrics\": \"./Allocator/FirstFitAllocatorMetrics.wasm\"},\n",
    "    \"BESTFIT\": {\"noMetrics\": \"./Allocator/BestFitAllocator.wasm\", \"metrics\": \"./Allocataor/BestFitAllocatorMetrics.wasm\"},\n",
    "    \"BUDDY\": {\"noMetrics\": \"./Allocator/BuddyAllocator.wasm\", \"metrics\": \"./Allocator/BuddyAllocatorMetrics.wasm\"}\n",
    "}\n",
    "\n",
    "# Still need to compile the code with P0's compileString and save it to a file\n",
    "# Allocator is a string in the allocators dictionary\n",
    "def runFile(wasmfile, allocator):\n",
    "    import pywasm\n",
    "    plotPoints = {}\n",
    "    # Defines for the environment\n",
    "    def logdata(idx, val):\n",
    "        plotPoints[idx] = val\n",
    "    if allocator not in allocators:\n",
    "        print(\"That is not a real allocator\")\n",
    "        return {}\n",
    "    allocator = allocators[allocator]\n",
    "    # Load both VMs now \n",
    "    noMetricVM = pywasm.load(allocator[\"noMetrics\"], {'env': {'logdata':logdata}})\n",
    "    metricVM = pywasm.load(allocator[\"metrics\"], {'env': {'logdata':logdata}})\n",
    "\n",
    "    \n",
    "    \n",
    "    \n",
    "    \n",
    "\n",
    "def runpywasm(wasmfile):\n",
    "    import pywasm\n",
    "    def write(i): print(i)\n",
    "    def writeln(): print('\\n')\n",
    "    def read(): return int(input())\n",
    "    vm = pywasm.load(wasmfile, {'P0lib': {'write': write, 'writeln': writeln, 'read': read}})"
   ]
  },
  {
   "cell_type": "markdown",
   "metadata": {},
   "source": [
    "### Making this thing work:\n",
    "\n",
    "1. Compile the allocator WATs to wasms \n",
    "2. Call compileString from original P0 to compile your P0 code to a WAT\n",
    "3. wat2wasm that file \n",
    "4. Run it with runFile(wasm, allocator)"
   ]
  },
  {
   "cell_type": "code",
   "execution_count": 6,
   "metadata": {},
   "outputs": [
    {
     "name": "stderr",
     "output_type": "stream",
     "text": "'wat2wasm' is not recognized as an internal or external command,\noperable program or batch file.\n'wat2wasm' is not recognized as an internal or external command,\noperable program or batch file.\n"
    }
   ],
   "source": [
    "!wat2wasm ./Allocator/FirstFitAllocator.wat\n",
    "!wat2wasm ./Allocator/FirstFitAllocatorMetrics.wat\n",
    "\n",
    "#This should work on McMaster's jhub instance, but evidently, not mine..."
   ]
  },
  {
   "cell_type": "code",
   "execution_count": 8,
   "metadata": {},
   "outputs": [],
   "source": [
    "runFile(\"test\",\"FIRSTFIT\")"
   ]
  },
  {
   "cell_type": "code",
   "execution_count": null,
   "metadata": {},
   "outputs": [],
   "source": []
  }
 ],
 "metadata": {
  "kernelspec": {
   "display_name": "Python 3",
   "language": "python",
   "name": "python3"
  },
  "language_info": {
   "codemirror_mode": {
    "name": "ipython",
    "version": 3
   },
   "file_extension": ".py",
   "mimetype": "text/x-python",
   "name": "python",
   "nbconvert_exporter": "python",
   "pygments_lexer": "ipython3",
   "version": "3.7.4-final"
  }
 },
 "nbformat": 4,
 "nbformat_minor": 4
}