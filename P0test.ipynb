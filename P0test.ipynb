{
 "cells": [
  {
   "cell_type": "code",
   "execution_count": null,
   "metadata": {},
   "outputs": [],
   "source": []
  },
  {
   "cell_type": "markdown",
   "metadata": {},
   "source": [
    "## P0 Test Suite\n",
    "#### Original Author: Emil Sekerinski, McMaster University, February 2017, updated March 2019"
   ]
  },
  {
   "cell_type": "code",
   "execution_count": 1,
   "metadata": {},
   "outputs": [
    {
     "name": "stdout",
     "output_type": "stream",
     "text": [
      "Importing Jupyter notebook from P0.ipynb\n",
      "Importing Jupyter notebook from SC.ipynb\n",
      "Importing Jupyter notebook from ST.ipynb\n"
     ]
    }
   ],
   "source": [
    "import nbimporter; nbimporter.options[\"only_defs\"] = False\n",
    "from P0 import compileString\n",
    "from ST import printSymTab\n",
    "\n",
    "def runpywasm(wasmfile):\n",
    "    import pywasm\n",
    "    def write(i): print(i)\n",
    "    def writeln(): print('\\n')\n",
    "    def read(): return int(input())\n",
    "    vm = pywasm.load(wasmfile, {'P0lib': {'write': write, 'writeln': writeln, 'read': read}})"
   ]
  },
  {
   "cell_type": "markdown",
   "metadata": {},
   "source": [
    "### Scanner Tests\n",
    "#### No Spurious Error Messages (only 1 message)"
   ]
  },
  {
   "cell_type": "code",
   "execution_count": 5,
   "metadata": {},
   "outputs": [
    {
     "name": "stdout",
     "output_type": "stream",
     "text": [
      "Var(name = x, lev = 0, tp = ReferenceObj(Type(name = integer, val = <class 'ST.Int'>), elementSize = 4, size = 1, tp = <class 'ST.Int'>))\n",
      "Var(name = x, lev = 0, tp = ReferenceObj(Type(name = integer, val = <class 'ST.Int'>), elementSize = 4, size = 1, tp = <class 'ST.Int'>))\n",
      "<class 'ST.Int'>\n",
      "ReferenceObj(Type(name = integer, val = <class 'ST.Int'>), elementSize = 4, size = 1, tp = <class 'ST.Int'>)\n",
      "Var(name = y, lev = 0, tp = <class 'ST.Int'>)\n",
      "Var(name = y, lev = 0, tp = <class 'ST.Int'>)\n",
      "<class 'ST.Int'>\n",
      "<class 'ST.Int'>\n",
      "Var(name = x, lev = 0, tp = ReferenceObj(Type(name = integer, val = <class 'ST.Int'>), elementSize = 4, size = 1, tp = <class 'ST.Int'>))\n",
      "Var(name = x, lev = 0, tp = ReferenceObj(Type(name = integer, val = <class 'ST.Int'>), elementSize = 4, size = 1, tp = <class 'ST.Int'>))\n",
      "Var(name = y, lev = 0, tp = <class 'ST.Int'>)\n",
      "OPPY Var(name = x, lev = 0, tp = ReferenceObj(Type(name = integer, val = <class 'ST.Int'>), elementSize = 4, size = 1, tp = <class 'ST.Int'>)) Var(name = y, lev = 0, tp = <class 'ST.Int'>)\n",
      "Var(name = x, lev = 0, tp = ReferenceObj(Type(name = integer, val = <class 'ST.Int'>), elementSize = 4, size = 1, tp = <class 'ST.Int'>))\n",
      "<class 'ST.Int'>\n",
      "ReferenceObj(Type(name = integer, val = <class 'ST.Int'>), elementSize = 4, size = 1, tp = <class 'ST.Int'>)\n",
      "(module\n",
      "(import \"P0lib\" \"write\" (func $write (param i32)))\n",
      "(import \"P0lib\" \"writeln\" (func $writeln))\n",
      "(import \"P0lib\" \"read\" (func $read (result i32)))\n",
      "(global $x (mut i32) i32.const -1)\n",
      "(global $y (mut i32) i32.const 0)\n",
      "(func $program\n",
      "i32.const 4\n",
      "call $malloc\n",
      "global.set $x\n",
      "global.get $x\n",
      "i32.const 0\n",
      "i32.const 5\n",
      "call $writeAsInt\n",
      "global.get $x\n",
      "i32.const 0\n",
      "call $readAsInt\n",
      "call $write\n",
      "i32.const 5\n",
      "global.set $y\n",
      "global.get $y\n",
      "call $write\n",
      "global.get $x\n",
      "i32.const 0\n",
      "call $readAsInt\n",
      "global.get $y\n",
      "i32.add\n",
      "global.get $x\n",
      "i32.const 0\n",
      "call $writeAsInt\n",
      "global.get $x\n",
      "i32.const 0\n",
      "call $readAsInt\n",
      "call $write\n",
      "global.get $x\n",
      "call $free\n",
      ")\n",
      "(memory 1)\n",
      "(start $program)\n",
      ")\n"
     ]
    }
   ],
   "source": [
    "\n",
    "\n",
    "compileString(\"\"\"\n",
    "program p;\n",
    "  var x: reference integer;\n",
    "  var y: integer;\n",
    "  new(x);\n",
    "  begin x := 3 + 2; write(x); y:= 5; write(y); x:=x + y; write(x) end\n",
    "  free(x);\n",
    "\"\"\", target='wat')"
   ]
  },
  {
   "cell_type": "markdown",
   "metadata": {},
   "source": [
    "#### Error \"number too large\""
   ]
  },
  {
   "cell_type": "code",
   "execution_count": null,
   "metadata": {},
   "outputs": [],
   "source": [
    "compileString(\"\"\"\n",
    "program p;\n",
    "  const c = 12345678901234567890;\n",
    "  var x: reference integer;\n",
    "  begin x := 12345678901234567890 end\n",
    "\"\"\")"
   ]
  },
  {
   "cell_type": "markdown",
   "metadata": {},
   "source": [
    "#### Error \"illegal character\""
   ]
  },
  {
   "cell_type": "code",
   "execution_count": null,
   "metadata": {},
   "outputs": [],
   "source": [
    "compileString(\"\"\"\n",
    "program p_;\n",
    "  begin @ writeln end\n",
    "\"\"\")"
   ]
  },
  {
   "cell_type": "markdown",
   "metadata": {},
   "source": [
    "### Syntax Checks\n",
    "#### Error \"] expected\""
   ]
  },
  {
   "cell_type": "code",
   "execution_count": null,
   "metadata": {},
   "outputs": [],
   "source": [
    "compileString(\"\"\"\n",
    "program p;\n",
    "  var x: integer;\n",
    "  var a: array [1..10] of integer;\n",
    "  begin x := a[4] end\n",
    "\"\"\")"
   ]
  },
  {
   "cell_type": "markdown",
   "metadata": {},
   "source": [
    "#### Error \"expression expected\""
   ]
  },
  {
   "cell_type": "code",
   "execution_count": null,
   "metadata": {},
   "outputs": [],
   "source": [
    "compileString(\"\"\"\n",
    "program p;\n",
    "  var x: reference integer;\n",
    "  begin x := * end\n",
    "\"\"\", target = 'wat')"
   ]
  },
  {
   "cell_type": "markdown",
   "metadata": {},
   "source": [
    "#### Error \") expected\""
   ]
  },
  {
   "cell_type": "code",
   "execution_count": null,
   "metadata": {},
   "outputs": [],
   "source": [
    "compileString(\"\"\"\n",
    "program p;\n",
    "  var x: reference integer;\n",
    "  begin x := (5 end\n",
    "\"\"\")"
   ]
  },
  {
   "cell_type": "markdown",
   "metadata": {},
   "source": [
    "#### Error \"'begin' expected\""
   ]
  },
  {
   "cell_type": "code",
   "execution_count": null,
   "metadata": {},
   "outputs": [],
   "source": [
    "compileString(\"\"\"\n",
    "program p;\n",
    "  var x: integer;\n",
    "  x := 3\n",
    "end\n",
    "\"\"\")"
   ]
  },
  {
   "cell_type": "markdown",
   "metadata": {},
   "source": [
    "#### Error \"; missing\""
   ]
  },
  {
   "cell_type": "code",
   "execution_count": null,
   "metadata": {},
   "outputs": [],
   "source": [
    "compileString(\"\"\"\n",
    "program p;\n",
    "  begin\n",
    "    writeln\n",
    "    writeln()\n",
    "  end\n",
    "\"\"\")"
   ]
  },
  {
   "cell_type": "markdown",
   "metadata": {},
   "source": [
    "#### Error \"'end' expected\""
   ]
  },
  {
   "cell_type": "code",
   "execution_count": null,
   "metadata": {},
   "outputs": [],
   "source": [
    "compileString(\"\"\"\n",
    "program p; begin writeln()\n",
    "\"\"\")"
   ]
  },
  {
   "cell_type": "markdown",
   "metadata": {},
   "source": [
    "#### Error \"statement expected\""
   ]
  },
  {
   "cell_type": "code",
   "execution_count": null,
   "metadata": {},
   "outputs": [],
   "source": [
    "compileString(\"\"\"\n",
    "program p;\n",
    "  begin var end\n",
    "\"\"\")"
   ]
  },
  {
   "cell_type": "markdown",
   "metadata": {},
   "source": [
    "#### Error \":= expected\""
   ]
  },
  {
   "cell_type": "code",
   "execution_count": null,
   "metadata": {},
   "outputs": [],
   "source": [
    "compileString(\"\"\"\n",
    "program p;\n",
    "  var x: integer;\n",
    "  begin x = 3 end\n",
    "\"\"\")"
   ]
  },
  {
   "cell_type": "markdown",
   "metadata": {},
   "source": [
    "#### Error \"')' expected\""
   ]
  },
  {
   "cell_type": "code",
   "execution_count": null,
   "metadata": {},
   "outputs": [],
   "source": [
    "compileString(\"\"\"\n",
    "program p;\n",
    "  begin write(3 end\n",
    "\"\"\")"
   ]
  },
  {
   "cell_type": "markdown",
   "metadata": {},
   "source": [
    "#### Error \"'then' expected\""
   ]
  },
  {
   "cell_type": "code",
   "execution_count": null,
   "metadata": {},
   "outputs": [],
   "source": [
    "compileString(\"\"\"\n",
    "program p;\n",
    "  begin\n",
    "    if true write(5)\n",
    "  end\n",
    "\"\"\")"
   ]
  },
  {
   "cell_type": "markdown",
   "metadata": {},
   "source": [
    "#### Error \"'do' expected\""
   ]
  },
  {
   "cell_type": "code",
   "execution_count": null,
   "metadata": {},
   "outputs": [],
   "source": [
    "compileString(\"\"\"\n",
    "program p;\n",
    "  begin\n",
    "    while true writeln\n",
    "  end\n",
    "\"\"\")"
   ]
  },
  {
   "cell_type": "markdown",
   "metadata": {},
   "source": [
    "#### Error '[' expected\", '.' expected, \"expression expected\", \"bad upper bound\""
   ]
  },
  {
   "cell_type": "code",
   "execution_count": null,
   "metadata": {},
   "outputs": [],
   "source": [
    "compileString(\"\"\"\n",
    "program p;\n",
    "  type T = array 5 of integer;\n",
    "  begin writeln end\n",
    "\"\"\")"
   ]
  },
  {
   "cell_type": "markdown",
   "metadata": {},
   "source": [
    "#### Error \"'end' expected\""
   ]
  },
  {
   "cell_type": "code",
   "execution_count": null,
   "metadata": {},
   "outputs": [],
   "source": [
    "compileString(\"\"\"\n",
    "program p;\n",
    "  type T = record x:integer\n",
    "  begin writeln end\n",
    "\"\"\")"
   ]
  },
  {
   "cell_type": "markdown",
   "metadata": {},
   "source": [
    "#### Error \"identifier expected\""
   ]
  },
  {
   "cell_type": "code",
   "execution_count": null,
   "metadata": {},
   "outputs": [],
   "source": [
    "compileString(\"\"\"\n",
    "program p;\n",
    "  type T = record end;\n",
    "  begin writeln end\n",
    "\"\"\")"
   ]
  },
  {
   "cell_type": "markdown",
   "metadata": {},
   "source": [
    "#### Error \"':' expected\""
   ]
  },
  {
   "cell_type": "code",
   "execution_count": null,
   "metadata": {},
   "outputs": [],
   "source": [
    "compileString(\"\"\"\n",
    "program p;\n",
    "  type T = record f end;\n",
    "  begin writeln end\n",
    "\"\"\")"
   ]
  },
  {
   "cell_type": "markdown",
   "metadata": {},
   "source": [
    "#### Error \"identifier expected\""
   ]
  },
  {
   "cell_type": "code",
   "execution_count": null,
   "metadata": {},
   "outputs": [],
   "source": [
    "compileString(\"\"\"\n",
    "program p;\n",
    "  type T = record f, end;\n",
    "  begin writeln end\n",
    "\"\"\")"
   ]
  },
  {
   "cell_type": "markdown",
   "metadata": {},
   "source": [
    "#### Error \"'begin' or declaration expected\""
   ]
  },
  {
   "cell_type": "code",
   "execution_count": null,
   "metadata": {},
   "outputs": [],
   "source": [
    "compileString(\"\"\"\n",
    "program p;\n",
    "  integer x;\n",
    "  begin writeln end\n",
    "\"\"\")"
   ]
  },
  {
   "cell_type": "markdown",
   "metadata": {},
   "source": [
    "#### Error \"= expected\""
   ]
  },
  {
   "cell_type": "code",
   "execution_count": null,
   "metadata": {},
   "outputs": [],
   "source": [
    "compileString(\"\"\"\n",
    "program p;\n",
    "  const c: 5;\n",
    "  begin writeln end\n",
    "\"\"\")"
   ]
  },
  {
   "cell_type": "markdown",
   "metadata": {},
   "source": [
    "#### Error \"constant name expected\", \"'end' expected\""
   ]
  },
  {
   "cell_type": "code",
   "execution_count": null,
   "metadata": {},
   "outputs": [],
   "source": [
    "compileString(\"\"\"\n",
    "program p;\n",
    "  const 5 = 7;\n",
    "  begin writeln end\n",
    "\"\"\")"
   ]
  },
  {
   "cell_type": "markdown",
   "metadata": {},
   "source": [
    "#### Error \"; expected\""
   ]
  },
  {
   "cell_type": "code",
   "execution_count": null,
   "metadata": {},
   "outputs": [],
   "source": [
    "compileString(\"\"\"\n",
    "program p;\n",
    "  const c = 5\n",
    "  begin writeln end\n",
    "\"\"\")"
   ]
  },
  {
   "cell_type": "markdown",
   "metadata": {},
   "source": [
    "#### Error \"= expected\""
   ]
  },
  {
   "cell_type": "code",
   "execution_count": null,
   "metadata": {},
   "outputs": [],
   "source": [
    "compileString(\"\"\"\n",
    "program p;\n",
    "  type T: integer;\n",
    "  begin writeln end\n",
    "\"\"\")"
   ]
  },
  {
   "cell_type": "markdown",
   "metadata": {},
   "source": [
    "#### Error \"; expected\""
   ]
  },
  {
   "cell_type": "code",
   "execution_count": null,
   "metadata": {},
   "outputs": [],
   "source": [
    "compileString(\"\"\"\n",
    "program p;\n",
    "  type T = integer\n",
    "  begin writeln end\n",
    "\"\"\")"
   ]
  },
  {
   "cell_type": "markdown",
   "metadata": {},
   "source": [
    "#### Error \"type name expected\", \"variable or procedure expected\", \"'end' expected\""
   ]
  },
  {
   "cell_type": "code",
   "execution_count": null,
   "metadata": {},
   "outputs": [],
   "source": [
    "compileString(\"\"\"\n",
    "program p;\n",
    "  type 5 = integer;\n",
    "  begin writeln end\n",
    "\"\"\")"
   ]
  },
  {
   "cell_type": "markdown",
   "metadata": {},
   "source": [
    "#### Error \"; expected\""
   ]
  },
  {
   "cell_type": "code",
   "execution_count": null,
   "metadata": {},
   "outputs": [],
   "source": [
    "compileString(\"\"\"\n",
    "program p;\n",
    "  var v: integer\n",
    "  begin writeln end\n",
    "\"\"\")"
   ]
  },
  {
   "cell_type": "markdown",
   "metadata": {},
   "source": [
    "#### Error  \"procedure name expected\""
   ]
  },
  {
   "cell_type": "code",
   "execution_count": null,
   "metadata": {},
   "outputs": [],
   "source": [
    "compileString(\"\"\"\n",
    "program p;\n",
    "  procedure;\n",
    "    begin writeln end;\n",
    "  begin writeln end\n",
    "\"\"\")"
   ]
  },
  {
   "cell_type": "markdown",
   "metadata": {},
   "source": [
    "#### Error \"formal parameters expected\""
   ]
  },
  {
   "cell_type": "code",
   "execution_count": null,
   "metadata": {},
   "outputs": [],
   "source": [
    "compileString(\"\"\"\n",
    "program p;\n",
    "  procedure q();\n",
    "    begin writeln end;\n",
    "  begin writeln end\n",
    "\"\"\")"
   ]
  },
  {
   "cell_type": "markdown",
   "metadata": {},
   "source": [
    "#### Error \") expected\""
   ]
  },
  {
   "cell_type": "code",
   "execution_count": null,
   "metadata": {},
   "outputs": [],
   "source": [
    "compileString(\"\"\"\n",
    "program p;\n",
    "  procedure q(x: integer\n",
    "    begin writeln end;\n",
    "  begin writeln end\n",
    "\"\"\")"
   ]
  },
  {
   "cell_type": "markdown",
   "metadata": {},
   "source": [
    "#### Error \"; expected\""
   ]
  },
  {
   "cell_type": "code",
   "execution_count": null,
   "metadata": {},
   "outputs": [],
   "source": [
    "compileString(\"\"\"\n",
    "program p;\n",
    "  procedure q\n",
    "    begin writeln end;\n",
    "  begin writeln end\n",
    "\"\"\")"
   ]
  },
  {
   "cell_type": "markdown",
   "metadata": {},
   "source": [
    "#### Error \"; expected\""
   ]
  },
  {
   "cell_type": "code",
   "execution_count": null,
   "metadata": {},
   "outputs": [],
   "source": [
    "compileString(\"\"\"\n",
    "program p;\n",
    "  procedure q;\n",
    "    begin writeln end\n",
    "  begin writeln end\n",
    "\"\"\")"
   ]
  },
  {
   "cell_type": "markdown",
   "metadata": {},
   "source": [
    "#### Error \"'program' expected'\""
   ]
  },
  {
   "cell_type": "code",
   "execution_count": null,
   "metadata": {},
   "outputs": [],
   "source": [
    "compileString(\"\"\"\n",
    "p; begin writeln end\n",
    "\"\"\")"
   ]
  },
  {
   "cell_type": "markdown",
   "metadata": {},
   "source": [
    "#### Error \"program name expected\""
   ]
  },
  {
   "cell_type": "code",
   "execution_count": null,
   "metadata": {},
   "outputs": [],
   "source": [
    "compileString(\"\"\"\n",
    "program begin writeln end\n",
    "\"\"\")"
   ]
  },
  {
   "cell_type": "markdown",
   "metadata": {},
   "source": [
    "#### Error \"; expected\""
   ]
  },
  {
   "cell_type": "code",
   "execution_count": null,
   "metadata": {},
   "outputs": [],
   "source": [
    "compileString(\"\"\"\n",
    "program p begin writeln end\n",
    "\"\"\")"
   ]
  },
  {
   "cell_type": "markdown",
   "metadata": {},
   "source": [
    "#### Error \"type expected\", \"expression expected\", \"'end' expected\""
   ]
  },
  {
   "cell_type": "code",
   "execution_count": null,
   "metadata": {},
   "outputs": [],
   "source": [
    "compileString(\"\"\"\n",
    "program p;\n",
    "  type T = while;\n",
    "  begin writeln end\n",
    "\"\"\")"
   ]
  },
  {
   "cell_type": "markdown",
   "metadata": {},
   "source": [
    "### Symbol Table Tests\n",
    "#### Error \"undefined identifier\", \"not a type\", \"undefined identifier\", \"variable or procedure expected\""
   ]
  },
  {
   "cell_type": "code",
   "execution_count": null,
   "metadata": {},
   "outputs": [],
   "source": [
    "compileString(\"\"\"\n",
    "program p;\n",
    "  var y: U;\n",
    "  begin y := true\n",
    "  end\n",
    "\"\"\")"
   ]
  },
  {
   "cell_type": "markdown",
   "metadata": {},
   "source": [
    "#### Error \"undefined identifier\", \"bad upper bound\""
   ]
  },
  {
   "cell_type": "code",
   "execution_count": null,
   "metadata": {},
   "outputs": [],
   "source": [
    "compileString(\"\"\"\n",
    "program p;\n",
    "  type T = array [7 .. N] of integer;\n",
    "  var x: T;\n",
    "  begin writeln()\n",
    "  end\n",
    "\"\"\")"
   ]
  },
  {
   "cell_type": "markdown",
   "metadata": {},
   "source": [
    "#### Error \"multiple definition\", \"variable or procedure expected\""
   ]
  },
  {
   "cell_type": "code",
   "execution_count": null,
   "metadata": {},
   "outputs": [],
   "source": [
    "compileString(\"\"\"\n",
    "program p;\n",
    "  const x = 9;\n",
    "  var x : integer;\n",
    "  begin x := 7\n",
    "  end\n",
    "\"\"\")"
   ]
  },
  {
   "cell_type": "markdown",
   "metadata": {},
   "source": [
    "#### Error: \"multiple definition\"; WASM: \"reference parameter\""
   ]
  },
  {
   "cell_type": "code",
   "execution_count": null,
   "metadata": {},
   "outputs": [],
   "source": [
    "compileString(\"\"\"\n",
    "program p;\n",
    "  procedure q(var z: boolean);\n",
    "    var z: integer\n",
    "    begin z := true end;\n",
    "  begin writeln()\n",
    "  end\n",
    "\"\"\", target = 'mips')"
   ]
  },
  {
   "cell_type": "markdown",
   "metadata": {},
   "source": [
    "#### Symbol Table Dump\n",
    "\n",
    "    Type(name = boolean, val = <class 'ST.Bool'>)\n",
    "    Type(name = integer, val = <class 'ST.Int'>)\n",
    "    Const(name = true, tp = <class 'ST.Bool'>, val = 1)\n",
    "    Const(name = false, tp = <class 'ST.Bool'>, val = 0)\n",
    "    StdProc(name = read, lev = 0, par = [Ref(name = , lev = , tp = <class 'ST.Int'>)])\n",
    "    StdProc(name = write, lev = 0, par = [Var(name = , lev = , tp = <class 'ST.Int'>)])\n",
    "    StdProc(name = writeln, lev = 0, par = [])\n",
    "    Const(name = N, tp = <class 'ST.Int'>, val = 10)\n",
    "    Type(name = T, val = Array(lower = 1, length = 10, base = <class 'ST.Int'>))\n",
    "    Var(name = x, lev = 0, tp = Array(lower = 1, length = 10, base = <class 'ST.Int'>))\n",
    "    Var(name = y, lev = 0, tp = <class 'ST.Bool'>)\n",
    "    Var(name = z, lev = 0, tp = Record(fields = [Var(name = f, lev = 1, tp = <class 'ST.Int'>), Var(name = g, lev = 1, tp = <class 'ST.Bool'>)]))\n",
    "    Proc(name = q, lev = 0, par = [Ref(name = v, lev = 1, tp = <class 'ST.Bool'>)])"
   ]
  },
  {
   "cell_type": "code",
   "execution_count": null,
   "metadata": {},
   "outputs": [],
   "source": [
    "compileString(\"\"\"\n",
    "program p;\n",
    "  const N = 10;\n",
    "  type T = array [1 .. N] of integer;\n",
    "  var x: T;\n",
    "  var y: boolean;\n",
    "  var z: record f: integer; g: boolean end;\n",
    "  procedure q(var v: boolean);\n",
    "    var z: boolean;\n",
    "    begin z := false end;\n",
    "  begin y := true\n",
    "  end\n",
    "\"\"\", \"/dev/null\") # discard target code\n",
    "printSymTab()"
   ]
  },
  {
   "cell_type": "markdown",
   "metadata": {},
   "source": [
    "### Type Checking Tests\n",
    "#### Error \"not a field\", \"incompatible assignment\""
   ]
  },
  {
   "cell_type": "code",
   "execution_count": null,
   "metadata": {},
   "outputs": [],
   "source": [
    "compileString(\"\"\"\n",
    "program p;\n",
    "  var v: record f: integer end;\n",
    "  begin v.g := 4\n",
    "  end\n",
    "\"\"\")"
   ]
  },
  {
   "cell_type": "markdown",
   "metadata": {},
   "source": [
    "#### Error \"not a record\", \"variable or procedure expected\""
   ]
  },
  {
   "cell_type": "code",
   "execution_count": null,
   "metadata": {},
   "outputs": [],
   "source": [
    "compileString(\"\"\"\n",
    "program p;\n",
    "  var v: integer;\n",
    "  begin v.g := 4\n",
    "  end\n",
    "\"\"\")"
   ]
  },
  {
   "cell_type": "markdown",
   "metadata": {},
   "source": [
    "#### Error \"identifier expected\""
   ]
  },
  {
   "cell_type": "code",
   "execution_count": null,
   "metadata": {},
   "outputs": [],
   "source": [
    "compileString(\"\"\"\n",
    "program p;\n",
    "  var v: record f: integer end;\n",
    "  begin v.3 := 4\n",
    "  end\n",
    "\"\"\")"
   ]
  },
  {
   "cell_type": "markdown",
   "metadata": {},
   "source": [
    "#### Error \"index out of bounds\", \"incompatible assignment\""
   ]
  },
  {
   "cell_type": "code",
   "execution_count": null,
   "metadata": {},
   "outputs": [],
   "source": [
    "compileString(\"\"\"\n",
    "program p;\n",
    "  var x: array [5 .. 7] of integer;\n",
    "  begin x[4] := 3\n",
    "  end\n",
    "\"\"\")"
   ]
  },
  {
   "cell_type": "markdown",
   "metadata": {},
   "source": [
    "#### Error \"index out of bounds\", \"incompatible assignment\""
   ]
  },
  {
   "cell_type": "code",
   "execution_count": null,
   "metadata": {},
   "outputs": [],
   "source": [
    "compileString(\"\"\"\n",
    "program p;\n",
    "  var x: array [5 .. 7] of integer;\n",
    "  begin x[8] := 3\n",
    "  end\n",
    "\"\"\")"
   ]
  },
  {
   "cell_type": "markdown",
   "metadata": {},
   "source": [
    "#### Error \"index not integer\", \"incompatible assignment\""
   ]
  },
  {
   "cell_type": "code",
   "execution_count": null,
   "metadata": {},
   "outputs": [],
   "source": [
    "compileString(\"\"\"\n",
    "program p;\n",
    "  var x: array [5 .. 7] of integer;\n",
    "  begin x[x] := 3\n",
    "  end\n",
    "\"\"\")"
   ]
  },
  {
   "cell_type": "markdown",
   "metadata": {},
   "source": [
    "#### Error \"not an array\""
   ]
  },
  {
   "cell_type": "code",
   "execution_count": null,
   "metadata": {},
   "outputs": [],
   "source": [
    "compileString(\"\"\"\n",
    "program p;\n",
    "  var x: integer;\n",
    "  begin x[9] := 3\n",
    "  end\n",
    "\"\"\")"
   ]
  },
  {
   "cell_type": "markdown",
   "metadata": {},
   "source": [
    "#### Error \"expression expected\", \"incompatible assignment\" (?)"
   ]
  },
  {
   "cell_type": "code",
   "execution_count": null,
   "metadata": {},
   "outputs": [],
   "source": [
    "compileString(\"\"\"\n",
    "program p;\n",
    "  var x: integer;\n",
    "  begin x := integer\n",
    "  end\n",
    "\"\"\")"
   ]
  },
  {
   "cell_type": "markdown",
   "metadata": {},
   "source": [
    "#### Error \"incompatible assignment\", \"incompatible assignment\""
   ]
  },
  {
   "cell_type": "code",
   "execution_count": null,
   "metadata": {},
   "outputs": [],
   "source": [
    "compileString(\"\"\"\n",
    "program p;\n",
    "  var x: boolean;\n",
    "  procedure q;\n",
    "    var x: integer;\n",
    "    begin x := true\n",
    "    end;\n",
    "  begin x := 3\n",
    "  end\n",
    "\"\"\")"
   ]
  },
  {
   "cell_type": "markdown",
   "metadata": {},
   "source": [
    "#### Error \"illegal parameter mode\""
   ]
  },
  {
   "cell_type": "code",
   "execution_count": null,
   "metadata": {},
   "outputs": [],
   "source": [
    "compileString(\"\"\"\n",
    "program p;\n",
    "  procedure q(a: integer);\n",
    "    begin a := 7\n",
    "    end;\n",
    "  begin q(true)\n",
    "  end\n",
    "\"\"\")"
   ]
  },
  {
   "cell_type": "markdown",
   "metadata": {},
   "source": [
    "#### Error \"illegal parameter mode\", WASM: \"reference parameters\""
   ]
  },
  {
   "cell_type": "code",
   "execution_count": null,
   "metadata": {},
   "outputs": [],
   "source": [
    "compileString(\"\"\"\n",
    "program p;\n",
    "  procedure q(var a: integer);\n",
    "    begin a := 7\n",
    "    end;\n",
    "  begin q(5)\n",
    "  end\n",
    "\"\"\")"
   ]
  },
  {
   "cell_type": "markdown",
   "metadata": {},
   "source": [
    "#### Error \"extra parameter\""
   ]
  },
  {
   "cell_type": "code",
   "execution_count": null,
   "metadata": {},
   "outputs": [],
   "source": [
    "compileString(\"\"\"\n",
    "program p;\n",
    "  var x: integer;\n",
    "  procedure q;\n",
    "    begin x := 7\n",
    "    end;\n",
    "  begin q(x)\n",
    "  end\n",
    "\"\"\")"
   ]
  },
  {
   "cell_type": "markdown",
   "metadata": {},
   "source": [
    "#### Error \"too few parameters\""
   ]
  },
  {
   "cell_type": "code",
   "execution_count": null,
   "metadata": {},
   "outputs": [],
   "source": [
    "compileString(\"\"\"\n",
    "program p;\n",
    "  procedure q(a: integer);\n",
    "    begin a := 7\n",
    "    end;\n",
    "  begin q()\n",
    "  end\n",
    "\"\"\")"
   ]
  },
  {
   "cell_type": "markdown",
   "metadata": {},
   "source": [
    "#### Error \"variable or procedure expected\""
   ]
  },
  {
   "cell_type": "code",
   "execution_count": null,
   "metadata": {},
   "outputs": [],
   "source": [
    "compileString(\"\"\"\n",
    "program p;\n",
    "  const c = 7;\n",
    "  begin c := 4\n",
    "  end\n",
    "\"\"\")"
   ]
  },
  {
   "cell_type": "markdown",
   "metadata": {},
   "source": [
    "#### Error \"boolean expected\""
   ]
  },
  {
   "cell_type": "code",
   "execution_count": null,
   "metadata": {},
   "outputs": [],
   "source": [
    "compileString(\"\"\"\n",
    "program p;\n",
    "  begin\n",
    "    while 5 do writeln\n",
    "  end\n",
    "\"\"\")"
   ]
  },
  {
   "cell_type": "markdown",
   "metadata": {},
   "source": [
    "#### Error \"boolean expected\""
   ]
  },
  {
   "cell_type": "code",
   "execution_count": null,
   "metadata": {},
   "outputs": [],
   "source": [
    "compileString(\"\"\"\n",
    "program p;\n",
    "  begin\n",
    "    if 5 then writeln\n",
    "  end\n",
    "\"\"\")"
   ]
  },
  {
   "cell_type": "markdown",
   "metadata": {},
   "source": [
    "#### Error \"not a type\""
   ]
  },
  {
   "cell_type": "code",
   "execution_count": null,
   "metadata": {},
   "outputs": [],
   "source": [
    "compileString(\"\"\"\n",
    "program p;\n",
    "  const c = 3;\n",
    "  type T = c;\n",
    "  begin writeln end\n",
    "\"\"\")"
   ]
  },
  {
   "cell_type": "markdown",
   "metadata": {},
   "source": [
    "#### Error \"bad lower bound\""
   ]
  },
  {
   "cell_type": "code",
   "execution_count": null,
   "metadata": {},
   "outputs": [],
   "source": [
    "compileString(\"\"\"\n",
    "program p;\n",
    "  var v: array[-1 .. 5] of integer;\n",
    "  begin writeln end\n",
    "\"\"\")"
   ]
  },
  {
   "cell_type": "markdown",
   "metadata": {},
   "source": [
    "#### Error \"bad upper bound\""
   ]
  },
  {
   "cell_type": "code",
   "execution_count": null,
   "metadata": {},
   "outputs": [],
   "source": [
    "compileString(\"\"\"\n",
    "program p;\n",
    "  var v: array[5 .. 3] of integer;\n",
    "  begin writeln end\n",
    "\"\"\")"
   ]
  },
  {
   "cell_type": "markdown",
   "metadata": {},
   "source": [
    "#### Error \"expression not constant\""
   ]
  },
  {
   "cell_type": "code",
   "execution_count": null,
   "metadata": {},
   "outputs": [],
   "source": [
    "compileString(\"\"\"\n",
    "program p;\n",
    "  var v: integer;\n",
    "  procedure q;\n",
    "    const c = v;\n",
    "    begin writeln end;\n",
    "  begin writeln end\n",
    "\"\"\")"
   ]
  },
  {
   "cell_type": "markdown",
   "metadata": {},
   "source": [
    "### MIPS Code Generator Tests\n",
    "#### Error \"value too large\""
   ]
  },
  {
   "cell_type": "code",
   "execution_count": null,
   "metadata": {},
   "outputs": [],
   "source": [
    "compileString(\"\"\"\n",
    "program p;\n",
    "  const c = 100000;\n",
    "  var x: integer;\n",
    "  begin x := c\n",
    "  end\n",
    "\"\"\", target = 'mips')"
   ]
  },
  {
   "cell_type": "markdown",
   "metadata": {},
   "source": [
    "#### Error \"no structured value parameters\", \"variable or procedure expected\""
   ]
  },
  {
   "cell_type": "code",
   "execution_count": null,
   "metadata": {},
   "outputs": [],
   "source": [
    "compileString(\"\"\"\n",
    "program p;\n",
    "  type a = array [1..10] of integer;\n",
    "  procedure q(f: a);\n",
    "    begin a := 4\n",
    "    end\n",
    "  begin a(5)\n",
    "  end\n",
    "\"\"\", target = 'mips')"
   ]
  },
  {
   "cell_type": "markdown",
   "metadata": {},
   "source": [
    "#### Error \"out of registers\""
   ]
  },
  {
   "cell_type": "code",
   "execution_count": null,
   "metadata": {},
   "outputs": [],
   "source": [
    "compileString(\"\"\"\n",
    "program p;\n",
    "  var x: integer;\n",
    "  begin\n",
    "    x := 0*x + (1*x + (2*x + (3*x + (4*x + (5*x + (6*x + (7*x + (8*x))))))))\n",
    "  end\n",
    "\"\"\", target = 'mips')"
   ]
  },
  {
   "cell_type": "markdown",
   "metadata": {},
   "source": [
    "#### Error \"level!\", \"undefined identifier\", \"variable or procedure expected\""
   ]
  },
  {
   "cell_type": "code",
   "execution_count": null,
   "metadata": {},
   "outputs": [],
   "source": [
    "compileString(\"\"\"\n",
    "program p;\n",
    "  procedure q;\n",
    "    var x: integer;\n",
    "    procedure r;\n",
    "      begin x := 5\n",
    "      end;\n",
    "    begin x := 3\n",
    "    end;\n",
    "  begin x := 7\n",
    "  end\n",
    "\"\"\", target = 'mips')"
   ]
  },
  {
   "cell_type": "markdown",
   "metadata": {},
   "source": [
    "#### Error \"unsupported parameter type\""
   ]
  },
  {
   "cell_type": "code",
   "execution_count": null,
   "metadata": {},
   "outputs": [],
   "source": [
    "compileString(\"\"\"\n",
    "program p;\n",
    "  var x: integer;\n",
    "  procedure q(b: boolean);\n",
    "    begin b := false\n",
    "    end;\n",
    "  begin q(x > 7)\n",
    "  end\n",
    "\"\"\", target = 'mips')"
   ]
  },
  {
   "cell_type": "markdown",
   "metadata": {},
   "source": [
    "#### Input & Output\n",
    "```\n",
    "    \t.data\n",
    "    x_: .space 4\n",
    "        .text\n",
    "        .globl main\n",
    "        .ent main\n",
    "    main:\t\n",
    "        li $v0, 5\n",
    "        syscall\n",
    "        sw $v0, x_\n",
    "        addi $t0, $0, 3\n",
    "        lw $t4, x_\n",
    "        mul $t0, $t0, $t4\n",
    "        sw $t0, x_\n",
    "        lw $a0, x_\n",
    "        li $v0, 1\n",
    "        syscall\n",
    "        li $v0, 11\n",
    "        li $a0, '\\n'\n",
    "        syscall\n",
    "        li $v0, 11\n",
    "        li $a0, '\\n'\n",
    "        syscall\n",
    "        lw $t2, x_\n",
    "        mul $t2, $t2, 5\n",
    "        add $a0, $t2, $0\n",
    "        li $v0, 1\n",
    "        syscall\n",
    "        li $v0, 10\n",
    "        syscall\n",
    "        .end main\n",
    "```"
   ]
  },
  {
   "cell_type": "code",
   "execution_count": null,
   "metadata": {},
   "outputs": [],
   "source": [
    "compileString(\"\"\"\n",
    "program p;\n",
    "  var x: integer;\n",
    "  begin read(x);\n",
    "    x := 3 * x;\n",
    "    write(x);\n",
    "    writeln();\n",
    "    writeln();\n",
    "    write(x * 5)\n",
    "  end\n",
    "\"\"\", target = 'mips')"
   ]
  },
  {
   "cell_type": "markdown",
   "metadata": {},
   "source": [
    "#### Parameter Passing\n",
    "```\n",
    "        .data\n",
    "    z_: .space 40\n",
    "    x_: .space 4\n",
    "        .text\n",
    "        .globl q\n",
    "        .ent q\n",
    "    q:  \n",
    "        sw $fp, -12($sp)\n",
    "        sw $ra, -16($sp)\n",
    "        sub $fp, $sp, 8\n",
    "        sub $sp, $fp, 12\n",
    "        lw $t0, 4($fp)\n",
    "        sw $t0, -12($fp)\n",
    "        lw $a0, -12($fp)\n",
    "        li $v0, 1\n",
    "        syscall\n",
    "        li $v0, 11\n",
    "        li $a0, '\\n'\n",
    "        syscall\n",
    "        lw $t4, 0($fp)\n",
    "        lw $t2, 0($t4)\n",
    "        sw $t2, 4($fp)\n",
    "        lw $a0, x_\n",
    "        li $v0, 1\n",
    "        syscall\n",
    "        lw $a0, 4($fp)\n",
    "        li $v0, 1\n",
    "        syscall\n",
    "        li $v0, 11\n",
    "        li $a0, '\\n'\n",
    "        syscall\n",
    "        lw $t6, 0($fp)\n",
    "        lw $t3, -12($fp)\n",
    "        sw $t3, 0($t6)\n",
    "        lw $t8, 0($fp)\n",
    "        lw $a0, 0($t8)\n",
    "        li $v0, 1\n",
    "        syscall\n",
    "        lw $a0, x_\n",
    "        li $v0, 1\n",
    "        syscall\n",
    "        li $v0, 11\n",
    "        li $a0, '\\n'\n",
    "        syscall\n",
    "        lw $a0, 4($fp)\n",
    "        li $v0, 1\n",
    "        syscall\n",
    "        lw $a0, -12($fp)\n",
    "        li $v0, 1\n",
    "        syscall\n",
    "        li $v0, 11\n",
    "        li $a0, '\\n'\n",
    "        syscall\n",
    "        lw $a0, z_+12\n",
    "        li $v0, 1\n",
    "        syscall\n",
    "        add $sp, $fp, 8\n",
    "        lw $ra, -8($fp)\n",
    "        lw $fp, -4($fp)\n",
    "        jr $ra\n",
    "        .text\n",
    "        .globl r\n",
    "        .ent r\n",
    "    r:  \n",
    "        sw $fp, -8($sp)\n",
    "        sw $ra, -12($sp)\n",
    "        sub $fp, $sp, 4\n",
    "        sub $sp, $fp, 8\n",
    "        lw $t5, 0($fp)\n",
    "        lw $t7, x_\n",
    "        sub $t7, $t7, 1\n",
    "        mul $t7, $t7, 4\n",
    "        add $t7, $t5, $t7\n",
    "        lw $t1, x_\n",
    "        sw $t1, 0($t7)\n",
    "        addi $t0, $0, 7\n",
    "        sw $t0, -4($sp)\n",
    "        lw $t4, 0($fp)\n",
    "        lw $t2, x_\n",
    "        sub $t2, $t2, 1\n",
    "        mul $t2, $t2, 4\n",
    "        add $t2, $t4, $t2\n",
    "        sw $t2, -8($sp)\n",
    "        jal, q\n",
    "        lw $a0, x_\n",
    "        li $v0, 1\n",
    "        syscall\n",
    "        add $sp, $fp, 4\n",
    "        lw $ra, -8($fp)\n",
    "        lw $fp, -4($fp)\n",
    "        jr $ra\n",
    "        .text\n",
    "        .globl main\n",
    "        .ent main\n",
    "    main:   \n",
    "        addi $t3, $0, 5\n",
    "        sw $t3, x_\n",
    "        la $t8, z_\n",
    "        sw $t8, -4($sp)\n",
    "        jal, r\n",
    "        li $v0, 10\n",
    "        syscall\n",
    "        .end main\n",
    "```"
   ]
  },
  {
   "cell_type": "code",
   "execution_count": null,
   "metadata": {},
   "outputs": [],
   "source": [
    "compileString(\"\"\"\n",
    "program p;\n",
    "  type T = array [1..10] of integer;\n",
    "  var x: integer;\n",
    "  var z: T;\n",
    "  procedure q({-4($sp)}a: integer {4($fp)}; {-8($sp)}var b: integer {($fp)});\n",
    "    var y: integer;{-12($fp)}\n",
    "    begin y := a; write(y); writeln(); {writes 7}\n",
    "      a := b; write(x); write(a); writeln(); {writes 5, 5}\n",
    "      b := y; write(b); write(x); writeln(); {writes 7, 7}\n",
    "      write(a); write(y); writeln(); {writes 5, 7}\n",
    "      write(z[4]) {writes 7}\n",
    "    end;\n",
    "  procedure r(var c: T);\n",
    "    begin c[x] := x; q(7, c[x]); write(x) {writes 7}\n",
    "    end;\n",
    "  begin x := 5; r(z)\n",
    "  end\n",
    "\"\"\", target = 'mips')"
   ]
  },
  {
   "cell_type": "markdown",
   "metadata": {},
   "source": [
    "#### Nested Procedures\n",
    "```\n",
    "        .data\n",
    "i_:     .space 4\n",
    "b_:     .space 4\n",
    "        .text\n",
    "        .globl p\n",
    "        .ent p\n",
    "p:      \n",
    "        sw $fp, -4($sp)\n",
    "        sw $ra, -8($sp)\n",
    "        sub $fp, $sp, 0\n",
    "        sub $sp, $fp, 8\n",
    "        sw $0, b_\n",
    "        lw $t3, 0($a0)\n",
    "        add $t3, $t3, 1\n",
    "        sw $t3, 0($a0)\n",
    "        add $sp, $fp, 0\n",
    "        lw $ra, -8($fp)\n",
    "        lw $fp, -4($fp)\n",
    "        jr $ra\n",
    "        .globl q\n",
    "        .ent q\n",
    "q:      \n",
    "        sw $fp, -4($sp)\n",
    "        sw $ra, -8($sp)\n",
    "        sub $fp, $sp, 0\n",
    "        sub $sp, $fp, 12\n",
    "        addi $t1, $0, 1\n",
    "        sw $t1, 0($a0)\n",
    "        addi $t7, $0, 4\n",
    "        sw $t7, -12($fp)\n",
    "        la $a0, i_\n",
    "        jal, p\n",
    "        add $sp, $fp, 0\n",
    "        lw $ra, -8($fp)\n",
    "        lw $fp, -4($fp)\n",
    "        jr $ra\n",
    "        .globl main\n",
    "        .ent main\n",
    "main:   \n",
    "        la $a0, b_\n",
    "        jal, q\n",
    "        li $v0, 10\n",
    "        syscall\n",
    "        .end main\n",
    "```"
   ]
  },
  {
   "cell_type": "code",
   "execution_count": null,
   "metadata": {},
   "outputs": [],
   "source": [
    "compileString(\"\"\"\n",
    "program p;\n",
    "  var b: boolean;\n",
    "  var i: integer;\n",
    "  procedure q(var z: boolean);\n",
    "    var y: integer;\n",
    "    procedure p(var x: integer);\n",
    "      begin b := false; x := x + 1\n",
    "      end;\n",
    "    begin z := true; y := 4; p(i)\n",
    "    end;\n",
    "  begin q(b)\n",
    "  end\n",
    "\"\"\", target = 'mips')"
   ]
  },
  {
   "cell_type": "markdown",
   "metadata": {},
   "source": [
    "#### Arrays and Records\n",
    "```\n",
    "        .data\n",
    "    x_: .space 4\n",
    "    w_: .space 36\n",
    "    v_: .space 28\n",
    "        .text\n",
    "        .globl q\n",
    "        .ent q\n",
    "    q:  \n",
    "        sw $fp, -12($sp)\n",
    "        sw $ra, -16($sp)\n",
    "        sub $fp, $sp, 8\n",
    "        sub $sp, $fp, 12\n",
    "        addi $t0, $0, 3\n",
    "        sw $t0, -12($fp)\n",
    "        lw $t4, 0($fp)\n",
    "        lw $a0, 32($t4)\n",
    "        li $v0, 1\n",
    "        syscall\n",
    "        lw $t2, 4($fp)\n",
    "        lw $a0, 0($t2)\n",
    "        li $v0, 1\n",
    "        syscall\n",
    "        lw $t6, 0($fp)\n",
    "        lw $t3, -12($fp)\n",
    "        sub $t3, $t3, 1\n",
    "        mul $t3, $t3, 4\n",
    "        add $t3, $t6, $t3\n",
    "        lw $a0, 4($t3)\n",
    "        li $v0, 1\n",
    "        syscall\n",
    "        li $v0, 11\n",
    "        li $a0, '\\n'\n",
    "        syscall\n",
    "        lw $t8, 4($fp)\n",
    "        addi $t5, $0, 7\n",
    "        sw $t5, 24($t8)\n",
    "        lw $t7, 4($fp)\n",
    "        lw $t1, -12($fp)\n",
    "        add $t1, $t1, 4\n",
    "        sub $t1, $t1, 1\n",
    "        mul $t1, $t1, 4\n",
    "        add $t1, $t7, $t1\n",
    "        lw $a0, 0($t1)\n",
    "        li $v0, 1\n",
    "        syscall\n",
    "        lw $t0, 0($fp)\n",
    "        lw $t4, -12($fp)\n",
    "        mul $t4, $t4, 2\n",
    "        sub $t4, $t4, 1\n",
    "        mul $t4, $t4, 4\n",
    "        add $t4, $t0, $t4\n",
    "        addi $t2, $0, 7\n",
    "        sw $t2, 4($t4)\n",
    "        lw $t6, 0($fp)\n",
    "        lw $a0, 24($t6)\n",
    "        li $v0, 1\n",
    "        syscall\n",
    "        add $sp, $fp, 8\n",
    "        lw $ra, -8($fp)\n",
    "        lw $fp, -4($fp)\n",
    "        jr $ra\n",
    "        .text\n",
    "        .globl main\n",
    "        .ent main\n",
    "    main:   \n",
    "        addi $t3, $0, 9\n",
    "        sw $t3, x_\n",
    "        addi $t5, $0, 5\n",
    "        sw $t5, w_+32\n",
    "        lw $a0, w_+32\n",
    "        li $v0, 1\n",
    "        syscall\n",
    "        addi $t7, $0, 3\n",
    "        sw $t7, v_+0\n",
    "        lw $t1, x_\n",
    "        sub $t1, $t1, 8\n",
    "        sub $t1, $t1, 1\n",
    "        mul $t1, $t1, 4\n",
    "        lw $a0, v_($t1)\n",
    "        li $v0, 1\n",
    "        syscall\n",
    "        lw $t0, x_\n",
    "        div $t0, $t0, 3\n",
    "        sub $t0, $t0, 1\n",
    "        mul $t0, $t0, 4\n",
    "        addi $t2, $0, 9\n",
    "        sw $t2, w_+4($t0)\n",
    "        lw $a0, w_+4+8\n",
    "        li $v0, 1\n",
    "        syscall\n",
    "        li $v0, 11\n",
    "        li $a0, '\\n'\n",
    "        syscall\n",
    "        la $t6, v_\n",
    "        sw $t6, -4($sp)\n",
    "        la $t3, w_\n",
    "        sw $t3, -8($sp)\n",
    "        jal, q\n",
    "        li $v0, 11\n",
    "        li $a0, '\\n'\n",
    "        syscall\n",
    "        lw $a0, v_+24\n",
    "        li $v0, 1\n",
    "        syscall\n",
    "        lw $a0, w_+4+20\n",
    "        li $v0, 1\n",
    "        syscall\n",
    "        li $v0, 10\n",
    "        syscall\n",
    "        .end main\n",
    "```"
   ]
  },
  {
   "cell_type": "code",
   "execution_count": null,
   "metadata": {},
   "outputs": [],
   "source": [
    "compileString(\"\"\"\n",
    "program p;\n",
    "  type a = array [1 .. 7] of integer;\n",
    "  type r = record f: integer; g: a; h: integer end;\n",
    "  var v: a;\n",
    "  var w: r;\n",
    "  var x: integer;\n",
    "  procedure q(var c: a; var d: r);\n",
    "    var y: integer;\n",
    "    begin y := 3;\n",
    "      write(d.h); write(c[1]); write(d.g[y]); {writes 5, 3, 9}\n",
    "      writeln(); c[7] := 7; write(c[y+4]); {writes 7}\n",
    "      d.g[y*2] := 7; write(d.g[6]) {writes 7}\n",
    "    end;\n",
    "  begin x := 9;\n",
    "    w.h := 12 - 7; write(w.h); {writes 5}\n",
    "    v[1] := 3; write(v[x-8]); {writes 3}\n",
    "    w.g[x div 3] := 9; write(w.g[3]); {writes 9}\n",
    "    writeln(); q(v, w); writeln();\n",
    "    write(v[7]); write(w.g[6]) {writes 7, 7}\n",
    "  end\n",
    "\"\"\", target = 'mips')"
   ]
  },
  {
   "cell_type": "markdown",
   "metadata": {},
   "source": [
    "#### Booleans and Conditions"
   ]
  },
  {
   "cell_type": "code",
   "execution_count": null,
   "metadata": {},
   "outputs": [],
   "source": [
    "compileString(\"\"\"\n",
    "program p;\n",
    "  const five = 5;\n",
    "  const seven = 7;\n",
    "  const always = true;\n",
    "  const never = false;\n",
    "  var x, y, z: integer;\n",
    "  var b, t, f: boolean;\n",
    "  begin x := seven; y := 9; z := 11; t := true; f := false;\n",
    "    if true then write(7) else write(9);    {writes 7}\n",
    "    if false then write(7) else write(9);   {writes 9}\n",
    "    if t then write(7) else write(9);       {writes 7}\n",
    "    if f then write(7) else write(9);       {writes 9}\n",
    "    if not t then write(7) else write(9);   {writes 9}\n",
    "    if not f then write(7) else write(9);   {writes 7}\n",
    "    if t or t then write(7) else write(9);  {writes 7}\n",
    "    if t or f then write(7) else write(9);  {writes 7}\n",
    "    if f or t then write(7) else write(9);  {writes 7}\n",
    "    if f or f then write(7) else write(9);  {writes 9}\n",
    "    if t and t then write(7) else write(9); {writes 7}\n",
    "    if t and f then write(7) else write(9); {writes 9}\n",
    "    if f and t then write(7) else write(9); {writes 9}\n",
    "    if f and f then write(7) else write(9); {writes 9}\n",
    "    writeln();\n",
    "    b := true;\n",
    "    if b then write(3) else write(5); {writes 3}\n",
    "    b := false;\n",
    "    if b then write(3) else write(5); {writes 5}\n",
    "    b := x < y;\n",
    "    if b then write(x) else write(y); {writes 7}\n",
    "    b := (x > y) or t;\n",
    "    if b then write(3) else write(5); {writes 3}\n",
    "    b := (x > y) or f;\n",
    "    if b then write(3) else write(5); {writes 5}\n",
    "    b := (x = y) or (x > y);\n",
    "    if b then write(3) else write(5); {writes 5}\n",
    "    b := (x = y) or (x < y);\n",
    "    if b then write(3) else write(5); {writes 3}\n",
    "    b := f and (x >= y);\n",
    "    if b then write(3) else write(5); {writes 5}\n",
    "    writeln();\n",
    "    while y > 3 do                    {writes 9, 8, 7, 6, 5, 4}\n",
    "      begin write(y); y := y - 1 end;\n",
    "    write(y); writeln();              {writes 3}\n",
    "    if not(x < y) and t then          {writes 7}\n",
    "      write(x)\n",
    "  end\n",
    "\"\"\", target = 'mips')"
   ]
  },
  {
   "cell_type": "markdown",
   "metadata": {},
   "source": [
    "#### Constant Folding, Local & Global Variables"
   ]
  },
  {
   "cell_type": "code",
   "execution_count": null,
   "metadata": {},
   "outputs": [],
   "source": [
    "compileString(\"\"\"\n",
    "program p;\n",
    "  const seven = (9 mod 3 + 5 * 3) div 2;\n",
    "  type int = integer;\n",
    "  var x, y: integer;\n",
    "  procedure q;\n",
    "    const sotrue = true and true;\n",
    "    const sofalse = false and true;\n",
    "    const alsotrue = false or true;\n",
    "    const alsofalse = false or false;\n",
    "    var x: int;\n",
    "    begin x := 3;\n",
    "      if sotrue then y := x else y := seven;\n",
    "      write(y); {writes 3}\n",
    "      if sofalse then y := x else y := seven;\n",
    "      write(y); {writes 7}\n",
    "      if alsotrue then y := x else y := seven;\n",
    "      write(y); {writes 3}\n",
    "      if alsofalse then y := x else y := seven;\n",
    "      write(y); {writes 7}\n",
    "      if not(true or false) then write(5) else write(9)\n",
    "    end;\n",
    "  begin x := 7; q(); write(x) {writes 7}\n",
    "  end\n",
    "\"\"\", target = 'mips')"
   ]
  },
  {
   "cell_type": "markdown",
   "metadata": {},
   "source": [
    "#### Procedures\n",
    "```\n",
    "    .data\n",
    "g_: .space 4\n",
    "    .text\n",
    "    .globl q\n",
    "    .ent q\n",
    "q:  \n",
    "    sw $fp, -8($sp)\n",
    "    sw $ra, -12($sp)\n",
    "    sub $fp, $sp, 4\n",
    "    sub $sp, $fp, 12\n",
    "    addi $t4, $0, 9\n",
    "    sw $t4, -12($fp)\n",
    "    lw $t2, -12($fp)\n",
    "    lw $t7, 0($fp)\n",
    "    ble $t2, $t7, L1\n",
    "L2: \n",
    "    lw $a0, -12($fp)\n",
    "    li $v0, 1\n",
    "    syscall\n",
    "    b, L3\n",
    "L1: \n",
    "    lw $a0, g_\n",
    "    li $v0, 1\n",
    "    syscall\n",
    "L3: \n",
    "    add $sp, $fp, 4\n",
    "    lw $ra, -8($fp)\n",
    "    lw $fp, -4($fp)\n",
    "    jr $ra\n",
    "    .text\n",
    "    .globl main\n",
    "    .ent main\n",
    "main:   \n",
    "    addi $t0, $0, 5\n",
    "    sw $t0, g_\n",
    "    addi $t8, $0, 7\n",
    "    sw $t8, -4($sp)\n",
    "    jal, q\n",
    "    li $v0, 10\n",
    "    syscall\n",
    "    .end main\n",
    "```"
   ]
  },
  {
   "cell_type": "code",
   "execution_count": null,
   "metadata": {},
   "outputs": [],
   "source": [
    "compileString(\"\"\"\n",
    "program p;\n",
    "  var g: integer;          {global variable}\n",
    "  procedure q(v: integer); {value parameter}\n",
    "    var l: integer;        {local variable}\n",
    "    begin\n",
    "      l := 9;\n",
    "      if l > v then\n",
    "         write(l)\n",
    "      else\n",
    "         write(g)\n",
    "    end;\n",
    "  begin\n",
    "    g := 5;\n",
    "    q(7)\n",
    "  end\n",
    "\"\"\", target = 'mips')"
   ]
  },
  {
   "cell_type": "markdown",
   "metadata": {},
   "source": [
    "#### Illustrating Lack of Optimization\n",
    "```\n",
    "        .data\n",
    "    x_: .space 4\n",
    "        .text\n",
    "        .globl main\n",
    "        .ent main\n",
    "    main:   \n",
    "        addi $t4, $0, 5\n",
    "        sw $t4, x_\n",
    "        lw $t6, x_\n",
    "        add $t6, $t6, 0\n",
    "        sw $t6, x_\n",
    "        lw $t7, x_\n",
    "        add $t8, $0, $t7\n",
    "        sw $t8, x_\n",
    "        lw $t3, x_\n",
    "        mul $t3, $t3, 1\n",
    "        sw $t3, x_\n",
    "        addi $t2, $0, 1\n",
    "        lw $t1, x_\n",
    "        mul $t2, $t2, $t1\n",
    "        sw $t2, x_\n",
    "        lw $t5, x_\n",
    "        add $t5, $t5, 3\n",
    "        sw $t5, x_\n",
    "        addi $t0, $0, 3\n",
    "        lw $t4, x_\n",
    "        add $t0, $t0, $t4\n",
    "        sw $t0, x_\n",
    "        li $v0, 10\n",
    "        syscall\n",
    "        .end main\n",
    "```"
   ]
  },
  {
   "cell_type": "code",
   "execution_count": null,
   "metadata": {},
   "outputs": [],
   "source": [
    "compileString(\"\"\"\n",
    "program p;\n",
    "  var x: integer;\n",
    "  begin x := 5;\n",
    "    x := x + 0;\n",
    "    x := 0 + x;\n",
    "    x := x * 1;\n",
    "    x := 1 * x;\n",
    "    x := x + 3;\n",
    "    x := 3 + x\n",
    "  end\n",
    "\"\"\", target = 'mips')"
   ]
  },
  {
   "cell_type": "markdown",
   "metadata": {},
   "source": [
    "#### Record and Array Access\n",
    "```\n",
    "    .data\n",
    "y_: .space 4          # size(y) = size(integer) = 4\n",
    "x_: .space 32         # size(T) = (9-3+1)*size(integer) = 7*4=28\n",
    "                      # size(U) = size(integer)+size(T) = 32\n",
    "                      # size(x) = size(U) = 32\n",
    "                      # offset(f) = 0\n",
    "                      # offset(g) = size(f) = 4\n",
    "    .text\n",
    "    .globl main\n",
    "    .ent main\n",
    "main:   \n",
    "    lw $t3, y_        # $t3 := y\n",
    "    add $t3, $t3, 3   # $t3 := $t3 + 3\n",
    "    sw $t3, y_        # y := $t3\n",
    "    addi $t1, $0, 1   # $t1 := 1\n",
    "    sw $t1, x_+0      # M[x+offset(f)] = x.f := $t1\n",
    "    lw $t0, y_        # $t0 := y\n",
    "    sub $t0, $t0, 3   # $t0 := $t0 - 3\n",
    "    mul $t0, $t0, 4   # $t0 := $t0 * size(integer)\n",
    "    addi $t8, $0, 5   # $t8 := 5\n",
    "    sw $t8, x_+4($t0) # M[(x+offset(g)+adr(g[y]))] = x.g[5] := $t8\n",
    "    li $v0, 10\n",
    "    syscall\n",
    "    .end main\n",
    "```"
   ]
  },
  {
   "cell_type": "code",
   "execution_count": null,
   "metadata": {
    "code_folding": []
   },
   "outputs": [],
   "source": [
    "compileString(\"\"\"\n",
    "program p;\n",
    "  type T = array [3..9] of integer;\n",
    "  type U = record f: boolean; g: T end;\n",
    "  var x: U;\n",
    "  var y: integer;\n",
    "  var z: array [1..7] of U;\n",
    "  begin\n",
    "    z[1].g[5] := 69;\n",
    "    y := y + 3;\n",
    "    x.f := true;\n",
    "    x.g[y] := 5\n",
    "  end\n",
    "\"\"\", target = 'wat')"
   ]
  },
  {
   "cell_type": "markdown",
   "metadata": {},
   "source": [
    "#### Two-dimensional Array\n",
    "```\n",
    "    .data\n",
    "y_: .space 4\n",
    "x_: .space 616\n",
    "    .text\n",
    "    .globl main\n",
    "    .ent main\n",
    "main:   \n",
    "    lw $t0, y_\n",
    "    sub $t0, $t0, 3\n",
    "    mul $t0, $t0, 88\n",
    "    sw $0, x_+32+4($t0)\n",
    "    lw $t4, y_\n",
    "    sub $t4, $t4, 3\n",
    "    mul $t4, $t4, 88\n",
    "    lw $t2, y_\n",
    "    add $t2, $t2, 1\n",
    "    sub $t2, $t2, 1\n",
    "    mul $t2, $t2, 8\n",
    "    add $t2, $t4, $t2\n",
    "    addi $t6, $0, 1\n",
    "    sw $t6, x_+0($t2)\n",
    "    li $v0, 10\n",
    "    syscall\n",
    "    .end main\n",
    "```"
   ]
  },
  {
   "cell_type": "code",
   "execution_count": null,
   "metadata": {},
   "outputs": [],
   "source": [
    "compileString(\"\"\"\n",
    "program p;\n",
    "  type R = record f, g: boolean end;\n",
    "  type S = array [1..11] of R;\n",
    "  type T = array [3..9] of S;\n",
    "  var x: ref T; \n",
    "  var y: integer;\n",
    "  begin\n",
    "    x[y][5].g := false;\n",
    "    x[y][y + 1].f := true\n",
    "  end\n",
    "\"\"\", target = 'ast')"
   ]
  },
  {
   "cell_type": "markdown",
   "metadata": {},
   "source": [
    "#### Assignments\n",
    "```\n",
    "    .data\n",
    "z_: .space 4\n",
    "y_: .space 4\n",
    "x_: .space 4\n",
    "    .text\n",
    "    .globl main\n",
    "    .ent main\n",
    "main:   \n",
    "    addi $t0, $0, 3\n",
    "    sw $t0, z_\n",
    "    lw $t4, y_\n",
    "    mul $t4, $t4, 7\n",
    "    lw $t2, x_\n",
    "    add $t2, $t2, $t4\n",
    "    sw $t2, z_\n",
    "    sw $0, z_\n",
    "    li $v0, 10\n",
    "    syscall\n",
    "    .end main\n",
    "```"
   ]
  },
  {
   "cell_type": "code",
   "execution_count": null,
   "metadata": {},
   "outputs": [],
   "source": [
    "compileString(\"\"\"\n",
    "program p;\n",
    "  var x, y, z: integer;\n",
    "  begin\n",
    "    z := 3;\n",
    "    z := x + y * 7;\n",
    "    z := 0\n",
    "  end\n",
    "\"\"\", target = 'wat')"
   ]
  },
  {
   "cell_type": "markdown",
   "metadata": {},
   "source": [
    "#### Relations\n",
    "```\n",
    "    .data\n",
    "y_: .space 4\n",
    "x_: .space 4\n",
    "    .text\n",
    "    .globl main\n",
    "    .ent main\n",
    "main:   \n",
    "    lw $t4, x_\n",
    "    lw $t2, y_\n",
    "    ble $t4, $t2, L1\n",
    "L2: \n",
    "    sw $0, x_\n",
    "L1: \n",
    "    li $v0, 10\n",
    "    syscall\n",
    "    .end main\n",
    "```"
   ]
  },
  {
   "cell_type": "code",
   "execution_count": null,
   "metadata": {},
   "outputs": [],
   "source": [
    "compileString(\"\"\"\n",
    "program p;\n",
    "  var x, y: integer;\n",
    "  begin\n",
    "    if x > y then x := 0\n",
    "  end\n",
    "\"\"\", target = 'mips')"
   ]
  },
  {
   "cell_type": "markdown",
   "metadata": {},
   "source": [
    "### AST Demos\n",
    "#### Control Structures\n",
    "```\n",
    "seq\n",
    "  seq\n",
    "    call read\n",
    "      Var(name = x, lev = 0, tp = <class 'ST.Int'>)\n",
    "    ifelse\n",
    "      >\n",
    "        Var(name = x, lev = 0, tp = <class 'ST.Int'>)\n",
    "        Const(name = , tp = <class 'ST.Int'>, val = 0)\n",
    "      while\n",
    "        <\n",
    "          Var(name = y, lev = 0, tp = Array(lower = 1, length = 10, base = <class 'ST.Int'>))[]\n",
    "             Var(name = x, lev = 0, tp = <class 'ST.Int'>)\n",
    "          Const(name = , tp = <class 'ST.Int'>, val = 7)\n",
    "        :=\n",
    "          Var(name = x, lev = 0, tp = <class 'ST.Int'>)\n",
    "          +\n",
    "            Var(name = x, lev = 0, tp = <class 'ST.Int'>)\n",
    "            Const(name = , tp = <class 'ST.Int'>, val = 1)\n",
    "      call write\n",
    "        Var(name = x, lev = 0, tp = <class 'ST.Int'>)\n",
    "  call writeln\n",
    "\n",
    "Type(name = boolean, val = <class 'ST.Bool'>)\n",
    "Type(name = integer, val = <class 'ST.Int'>)\n",
    "Const(name = true, tp = <class 'ST.Bool'>, val = 1)\n",
    "Const(name = false, tp = <class 'ST.Bool'>, val = 0)\n",
    "StdProc(name = read, lev = 0, par = [Ref(name = , lev = , tp = <class 'ST.Int'>)])\n",
    "StdProc(name = write, lev = 0, par = [Var(name = , lev = , tp = <class 'ST.Int'>)])\n",
    "StdProc(name = writeln, lev = 0, par = [])\n",
    "Var(name = x, lev = 0, tp = <class 'ST.Int'>)\n",
    "Var(name = y, lev = 0, tp = Array(lower = 1, length = 10, base = <class 'ST.Int'>))\n",
    "```"
   ]
  },
  {
   "cell_type": "code",
   "execution_count": null,
   "metadata": {},
   "outputs": [],
   "source": [
    "compileString(\"\"\"\n",
    "program p;\n",
    "  var x: integer;\n",
    "  var y: array [1..10] of integer;\n",
    "  begin\n",
    "    read(x);\n",
    "    if x > 0 then\n",
    "      while y[x] < 7 do\n",
    "        x := x + 1\n",
    "    else write(x);\n",
    "    writeln\n",
    "  end\n",
    "\"\"\", target='ast')\n",
    "printSymTab()"
   ]
  },
  {
   "cell_type": "markdown",
   "metadata": {},
   "source": [
    "#### Records\n",
    "```\n",
    "seq\n",
    "  seq\n",
    "    seq\n",
    "      :=\n",
    "        Var(name = a, lev = 0, tp = <class 'ST.Int'>)\n",
    "        Const(name = , tp = <class 'ST.Int'>, val = 7)\n",
    "      :=\n",
    "        Var(name = b, lev = 0, tp = <class 'ST.Int'>)\n",
    "        Const(name = , tp = <class 'ST.Int'>, val = 9)\n",
    "    :=\n",
    "      Var(name = x, lev = 0, tp = Record(fields = [Var(name = f, lev = 1, tp = <class 'ST.Int'>), Var(name = g, lev = 1, tp = <class 'ST.Int'>)])).Var(name = g, lev = 1, tp = <class 'ST.Int'>)\n",
    "      Const(name = , tp = <class 'ST.Int'>, val = 3)\n",
    "  :=\n",
    "    Var(name = x, lev = 0, tp = Record(fields = [Var(name = f, lev = 1, tp = <class 'ST.Int'>), Var(name = g, lev = 1, tp = <class 'ST.Int'>)])).Var(name = f, lev = 1, tp = <class 'ST.Int'>)\n",
    "    Const(name = , tp = <class 'ST.Int'>, val = 5)```"
   ]
  },
  {
   "cell_type": "code",
   "execution_count": null,
   "metadata": {},
   "outputs": [],
   "source": [
    "compileString(\"\"\"\n",
    "program p;\n",
    "  var a: integer;\n",
    "  var b: integer;\n",
    "  var x: record f, g: integer end;\n",
    "  begin\n",
    "    a := 7;\n",
    "    b := 9;\n",
    "    x.g := 3;\n",
    "    x.f := 5\n",
    "  end\n",
    "\"\"\", target='ast')"
   ]
  },
  {
   "cell_type": "markdown",
   "metadata": {},
   "source": [
    "#### Arrays\n",
    "```\n",
    "seq\n",
    "  seq\n",
    "    :=\n",
    "      Var(name = x, lev = 0, tp = Array(lower = 1, length = 10, base = <class 'ST.Int'>))[]\n",
    "         Const(name = , tp = <class 'ST.Int'>, val = 5)\n",
    "      Const(name = , tp = <class 'ST.Int'>, val = 3)\n",
    "    :=\n",
    "      Var(name = x, lev = 0, tp = Array(lower = 1, length = 10, base = <class 'ST.Int'>))[]\n",
    "         Var(name = i, lev = 0, tp = <class 'ST.Int'>)\n",
    "      Const(name = , tp = <class 'ST.Int'>, val = 5)\n",
    "  :=\n",
    "    Var(name = x, lev = 0, tp = Array(lower = 1, length = 10, base = <class 'ST.Int'>))[]\n",
    "       +\n",
    "        Var(name = i, lev = 0, tp = <class 'ST.Int'>)\n",
    "        Const(name = , tp = <class 'ST.Int'>, val = 7)\n",
    "    +\n",
    "      Var(name = i, lev = 0, tp = <class 'ST.Int'>)\n",
    "      Const(name = , tp = <class 'ST.Int'>, val = 9)\n",
    "```"
   ]
  },
  {
   "cell_type": "code",
   "execution_count": null,
   "metadata": {},
   "outputs": [],
   "source": [
    "compileString(\"\"\"\n",
    "program p;\n",
    "  var i: integer;\n",
    "  var x: array [1..10] of integer;\n",
    "  begin\n",
    "    x[5] := 3;\n",
    "    x[i] := 5;\n",
    "    x[i + 7] := i + 9;\n",
    "  end\n",
    "\"\"\", target='ast')"
   ]
  },
  {
   "cell_type": "markdown",
   "metadata": {},
   "source": [
    "### WebAssembly Code Generator Tests"
   ]
  },
  {
   "cell_type": "markdown",
   "metadata": {},
   "source": [
    "#### Error WASM: \"no structured value parameters\", \"variable or procedure expected\""
   ]
  },
  {
   "cell_type": "code",
   "execution_count": null,
   "metadata": {},
   "outputs": [],
   "source": [
    "compileString(\"\"\"\n",
    "program p;\n",
    "  type a = array [1..10] of integer;\n",
    "  procedure q(f: a);\n",
    "    begin a := 4\n",
    "    end\n",
    "  begin a(5)\n",
    "  end\n",
    "\"\"\", target = 'wat')"
   ]
  },
  {
   "cell_type": "markdown",
   "metadata": {},
   "source": [
    "#### Error WASM: no nested procedures, WASM: \"level!\", \"undefined identifier\", \"variable or procedure expected\""
   ]
  },
  {
   "cell_type": "code",
   "execution_count": null,
   "metadata": {},
   "outputs": [],
   "source": [
    "compileString(\"\"\"\n",
    "program p;\n",
    "  procedure q;\n",
    "    var x: integer;\n",
    "    procedure r;\n",
    "      begin x := 5\n",
    "      end;\n",
    "    begin x := 3\n",
    "    end;\n",
    "  begin x := 7\n",
    "  end\n",
    "\"\"\", target = 'wat')"
   ]
  },
  {
   "cell_type": "markdown",
   "metadata": {},
   "source": [
    "#### Relational Operators\n",
    "\n",
    "```\n",
    "(module\n",
    "(import \"P0lib\" \"write\" (func $write (param i32)))\n",
    "(import \"P0lib\" \"writeln\" (func $writeln))\n",
    "(import \"P0lib\" \"read\" (func $read (result i32)))\n",
    "(global $x (mut i32) i32.const 0)\n",
    "(func $q (param $b i32)\n",
    "local.get $b\n",
    "i32.const 0\n",
    "i32.eq\n",
    "local.set $b\n",
    ")\n",
    "(func $program\n",
    "global.get $x\n",
    "i32.const 7\n",
    "i32.gt_s\n",
    "call $q\n",
    ")\n",
    "(memory 1)\n",
    "(start $program)\n",
    ")\n",
    "```"
   ]
  },
  {
   "cell_type": "code",
   "execution_count": null,
   "metadata": {},
   "outputs": [],
   "source": [
    "compileString(\"\"\"\n",
    "program p;\n",
    "  var x: integer;\n",
    "  procedure q(b: boolean);\n",
    "    begin b := b = false\n",
    "    end;\n",
    "  begin q(x > 7)\n",
    "  end\n",
    "\"\"\", 'relop.wat', target = 'wat')"
   ]
  },
  {
   "cell_type": "code",
   "execution_count": null,
   "metadata": {},
   "outputs": [],
   "source": [
    "!wat2wasm relop.wat"
   ]
  },
  {
   "cell_type": "markdown",
   "metadata": {},
   "source": [
    "#### Input & Output\n",
    "```\n",
    "(module\n",
    "(import \"P0lib\" \"write\" (func $write (param i32)))\n",
    "(import \"P0lib\" \"writeln\" (func $writeln))\n",
    "(import \"P0lib\" \"read\" (func $read (result i32)))\n",
    "(global $x (mut i32) i32.const 0)\n",
    "(func $program\n",
    "call $read\n",
    "global.set $x\n",
    "i32.const 3\n",
    "global.get $x\n",
    "i32.mul\n",
    "global.set $x\n",
    "global.get $x\n",
    "call $write\n",
    "call $writeln\n",
    "call $writeln\n",
    "global.get $x\n",
    "i32.const 5\n",
    "i32.mul\n",
    "call $write\n",
    ")\n",
    "(memory 1)\n",
    "(start $program)\n",
    ")\n",
    "```"
   ]
  },
  {
   "cell_type": "code",
   "execution_count": null,
   "metadata": {},
   "outputs": [],
   "source": [
    "compileString(\"\"\"\n",
    "program p;\n",
    "  var x: integer;\n",
    "  begin read(x);\n",
    "    x := 3 * x;\n",
    "    write(x);\n",
    "    writeln();\n",
    "    writeln();\n",
    "    write(x * 5)\n",
    "  end\n",
    "\"\"\", target = 'wat')"
   ]
  },
  {
   "cell_type": "markdown",
   "metadata": {},
   "source": [
    "#### Parameter Passing\n",
    "```\n",
    "(module\n",
    "(import \"P0lib\" \"write\" (func $write (param i32)))\n",
    "(import \"P0lib\" \"writeln\" (func $writeln))\n",
    "(import \"P0lib\" \"read\" (func $read (result i32)))\n",
    "(global $x (mut i32) i32.const 0)\n",
    "(func $q (param $a i32) (param $b i32)\n",
    "(local $y i32)\n",
    "local.get $a\n",
    "local.set $y\n",
    "local.get $y\n",
    "call $write\n",
    "call $writeln\n",
    "local.get $b\n",
    "local.set $a\n",
    "global.get $x\n",
    "call $write\n",
    "local.get $a\n",
    "call $write\n",
    "call $writeln\n",
    "local.get $y\n",
    "local.set $b\n",
    "local.get $b\n",
    "call $write\n",
    "global.get $x\n",
    "call $write\n",
    "call $writeln\n",
    "local.get $a\n",
    "call $write\n",
    "local.get $y\n",
    "call $write\n",
    "call $writeln\n",
    "i32.const 12\n",
    "i32.load\n",
    "call $write\n",
    ")\n",
    "(func $r (param $c i32)\n",
    "local.get $c\n",
    "i32.load\n",
    "global.get $x\n",
    "i32.const 1\n",
    "i32.sub\n",
    "i32.const 4\n",
    "i32.mul_s\n",
    "i32.add\n",
    "global.get $x\n",
    "i32.store\n",
    "i32.const 7\n",
    "local.get $c\n",
    "i32.load\n",
    "global.get $x\n",
    "i32.const 1\n",
    "i32.sub\n",
    "i32.const 4\n",
    "i32.mul_s\n",
    "i32.add\n",
    "i32.load\n",
    "call $q\n",
    "global.get $x\n",
    "call $write\n",
    ")\n",
    "(func $program\n",
    "i32.const 5\n",
    "global.set $x\n",
    "i32.const 0\n",
    "call $r\n",
    ")\n",
    "(memory 1)\n",
    "(start $program)\n",
    ")\n",
    "```"
   ]
  },
  {
   "cell_type": "code",
   "execution_count": null,
   "metadata": {},
   "outputs": [],
   "source": [
    "compileString(\"\"\"\n",
    "program p;\n",
    "  type T = array [1..10] of integer;\n",
    "  var x: integer;\n",
    "  var z: T;\n",
    "  procedure q(a: integer; b: integer);\n",
    "    var y: integer;\n",
    "    begin y := a; write(y); writeln(); {writes 7}\n",
    "      a := b; write(x); write(a); writeln(); {writes 5, 5}\n",
    "      b := y; write(b); write(x); writeln(); {writes 7, 5}\n",
    "      write(a); write(y); writeln(); {writes 5, 7}\n",
    "      write(z[5]) {writes 5}\n",
    "    end;\n",
    "  procedure r(var c: T);\n",
    "    begin c[x] := x; q(7, c[x]); write(x) {writes 5}\n",
    "    end;\n",
    "  begin x := 5; r(z)\n",
    "  end\n",
    "\"\"\", 'params.wat', target = 'wat')"
   ]
  },
  {
   "cell_type": "code",
   "execution_count": null,
   "metadata": {},
   "outputs": [],
   "source": [
    "!wat2wasm params.wat"
   ]
  },
  {
   "cell_type": "code",
   "execution_count": null,
   "metadata": {},
   "outputs": [],
   "source": [
    "runpywasm('params.wasm')"
   ]
  },
  {
   "cell_type": "markdown",
   "metadata": {},
   "source": [
    "#### Error: WASM: \"no nested procedures\""
   ]
  },
  {
   "cell_type": "code",
   "execution_count": null,
   "metadata": {},
   "outputs": [],
   "source": [
    "compileString(\"\"\"\n",
    "program p;\n",
    "  var b: boolean;\n",
    "  var i: integer;\n",
    "  procedure q(z: boolean);\n",
    "    var y: integer;\n",
    "    procedure p(x: integer);\n",
    "      begin b := false; x := x + 1\n",
    "      end;\n",
    "    begin z := true; y := 4; p(i)\n",
    "    end;\n",
    "  begin q(b)\n",
    "  end\n",
    "\"\"\", target = 'wat')"
   ]
  },
  {
   "cell_type": "markdown",
   "metadata": {},
   "source": [
    "#### Arrays and Records\n",
    "```\n",
    "(module\n",
    "(import \"P0lib\" \"write\" (func $write (param i32)))\n",
    "(import \"P0lib\" \"writeln\" (func $writeln))\n",
    "(import \"P0lib\" \"read\" (func $read (result i32)))\n",
    "(global $x (mut i32) i32.const 0)\n",
    "(func $q (param $c i32) (param $d i32)\n",
    "(local $y i32)\n",
    "i32.const 3\n",
    "local.set $y\n",
    "local.get $d\n",
    "i32.const 32\n",
    "i32.add\n",
    "i32.load\n",
    "call $write\n",
    "local.get $c\n",
    "i32.load\n",
    "i32.const 0\n",
    "i32.add\n",
    "i32.load\n",
    "call $write\n",
    "local.get $d\n",
    "i32.const 4\n",
    "i32.add\n",
    "local.get $y\n",
    "i32.const 1\n",
    "i32.sub\n",
    "i32.const 4\n",
    "i32.mul\n",
    "i32.add\n",
    "i32.load\n",
    "call $write\n",
    "call $writeln\n",
    "local.get $c\n",
    "i32.load\n",
    "i32.const 24\n",
    "i32.add\n",
    "i32.const 7\n",
    "i32.store\n",
    "local.get $y\n",
    "i32.const 4\n",
    "i32.add\n",
    "local.get $c\n",
    "i32.load\n",
    "i32.const 1\n",
    "i32.sub\n",
    "i32.const 4\n",
    "i32.mul\n",
    "i32.add\n",
    "i32.load\n",
    "call $write\n",
    "local.get $d\n",
    "i32.const 4\n",
    "i32.add\n",
    "local.get $y\n",
    "i32.const 2\n",
    "i32.mul\n",
    "i32.const 1\n",
    "i32.sub\n",
    "i32.const 4\n",
    "i32.mul\n",
    "i32.add\n",
    "i32.const 7\n",
    "i32.store\n",
    "local.get $d\n",
    "i32.const 4\n",
    "i32.add\n",
    "i32.const 20\n",
    "i32.add\n",
    "i32.load\n",
    "call $write\n",
    ")\n",
    "(func $program\n",
    "i32.const 9\n",
    "global.set $x\n",
    "i32.const 60\n",
    "i32.const 5\n",
    "i32.store\n",
    "i32.const 60\n",
    "i32.load\n",
    "call $write\n",
    "i32.const 0\n",
    "i32.const 3\n",
    "i32.store\n",
    "global.get $x\n",
    "i32.const 8\n",
    "i32.sub\n",
    "i32.const 1\n",
    "i32.sub\n",
    "i32.const 4\n",
    "i32.mul\n",
    "i32.load\n",
    "call $write\n",
    "global.get $x\n",
    "i32.const 3\n",
    "i32.div_s\n",
    "i32.const 1\n",
    "i32.sub\n",
    "i32.const 4\n",
    "i32.mul\n",
    "i32.const 9\n",
    "i32.store\n",
    "i32.const 40\n",
    "i32.load\n",
    "call $write\n",
    "call $writeln\n",
    "i32.const 0\n",
    "i32.const 28\n",
    "call $q\n",
    "call $writeln\n",
    "i32.const 24\n",
    "i32.load\n",
    "call $write\n",
    "i32.const 52\n",
    "i32.load\n",
    "call $write\n",
    ")\n",
    "(memory 1)\n",
    "(start $program)\n",
    ")\n",
    "```"
   ]
  },
  {
   "cell_type": "code",
   "execution_count": null,
   "metadata": {},
   "outputs": [],
   "source": [
    "compileString(\"\"\"\n",
    "program p;\n",
    "  type a = array [1 .. 7] of integer;\n",
    "  type r = record f: integer; g: a; h: integer end;\n",
    "  var v: a;\n",
    "  var w: r;\n",
    "  var x: integer;\n",
    "  procedure q(var c: a; var d: r);\n",
    "    var y: integer;\n",
    "    begin y := 3;\n",
    "      write(d.h); write(c[1]); write(d.g[y]); {writes 5, 3, 9}\n",
    "      writeln(); c[7] := 7; write(c[y+4]); {writes 7}\n",
    "      d.g[y*2] := 7; write(d.g[6]) {writes 7}\n",
    "    end;\n",
    "  begin x := 9;\n",
    "    w.h := 12 - 7; write(w.h); {writes 5}\n",
    "    v[1] := 3; write(v[x-8]); {writes 3}\n",
    "    w.g[x div 3] := 9; write(w.g[3]); {writes 9}\n",
    "    writeln(); q(v, w); writeln();\n",
    "    write(v[7]); write(w.g[6]) {writes 7, 7}\n",
    "  end\n",
    "\"\"\", 'arrayrec.wat', target = 'wat')"
   ]
  },
  {
   "cell_type": "code",
   "execution_count": null,
   "metadata": {},
   "outputs": [],
   "source": [
    "!wat2wasm arrayrec.wat"
   ]
  },
  {
   "cell_type": "markdown",
   "metadata": {},
   "source": [
    "#### Booleans and Conditions"
   ]
  },
  {
   "cell_type": "code",
   "execution_count": null,
   "metadata": {},
   "outputs": [],
   "source": [
    "compileString(\"\"\"\n",
    "program p;\n",
    "  const five = 5;\n",
    "  const seven = 7;\n",
    "  const always = true;\n",
    "  const never = false;\n",
    "  var x, y, z: integer;\n",
    "  var b, t, f: boolean;\n",
    "  begin x := seven; y := 9; z := 11; t := true; f := false;\n",
    "    if true then write(7) else write(9);    {writes 7}\n",
    "    if false then write(7) else write(9);   {writes 9}\n",
    "    if t then write(7) else write(9);       {writes 7}\n",
    "    if f then write(7) else write(9);       {writes 9}\n",
    "    if not t then write(7) else write(9);   {writes 9}\n",
    "    if not f then write(7) else write(9);   {writes 7}\n",
    "    if t or t then write(7) else write(9);  {writes 7}\n",
    "    if t or f then write(7) else write(9);  {writes 7}\n",
    "    if f or t then write(7) else write(9);  {writes 7}\n",
    "    if f or f then write(7) else write(9);  {writes 9}\n",
    "    if t and t then write(7) else write(9); {writes 7}\n",
    "    if t and f then write(7) else write(9); {writes 9}\n",
    "    if f and t then write(7) else write(9); {writes 9}\n",
    "    if f and f then write(7) else write(9); {writes 9}\n",
    "    writeln();\n",
    "    b := true;\n",
    "    if b then write(3) else write(5); {writes 3}\n",
    "    b := false;\n",
    "    if b then write(3) else write(5); {writes 5}\n",
    "    b := x < y;\n",
    "    if b then write(x) else write(y); {writes 7}\n",
    "    b := (x > y) or t;\n",
    "    if b then write(3) else write(5); {writes 3}\n",
    "    b := (x > y) or f;\n",
    "    if b then write(3) else write(5); {writes 5}\n",
    "    b := (x = y) or (x > y);\n",
    "    if b then write(3) else write(5); {writes 5}\n",
    "    b := (x = y) or (x < y);\n",
    "    if b then write(3) else write(5); {writes 3}\n",
    "    b := f and (x >= y);\n",
    "    if b then write(3) else write(5); {writes 5}\n",
    "    writeln();\n",
    "    while y > 3 do                    {writes 9, 8, 7, 6, 5, 4}\n",
    "      begin write(y); y := y - 1 end;\n",
    "    write(y); writeln();              {writes 3}\n",
    "    if not(x < y) and t then          {writes 7}\n",
    "      write(x)\n",
    "  end\n",
    "\"\"\", 'cond.wat', target = 'wat')"
   ]
  },
  {
   "cell_type": "code",
   "execution_count": null,
   "metadata": {},
   "outputs": [],
   "source": [
    "!wat2wasm cond.wat"
   ]
  },
  {
   "cell_type": "markdown",
   "metadata": {},
   "source": [
    "#### Constant Folding, Local & Global Variables\n",
    "\n",
    "```\n",
    "(module\n",
    "(import \"P0lib\" \"write\" (func $write (param i32)))\n",
    "(import \"P0lib\" \"writeln\" (func $writeln))\n",
    "(import \"P0lib\" \"read\" (func $read (result i32)))\n",
    "(global $x (mut i32) i32.const 0)\n",
    "(global $y (mut i32) i32.const 0)\n",
    "(func $q \n",
    "(local $x i32)\n",
    "i32.const 3\n",
    "local.set $x\n",
    "i32.const 1\n",
    "if\n",
    "local.get $x\n",
    "global.set $y\n",
    "else\n",
    "i32.const 7\n",
    "global.set $y\n",
    "end\n",
    "global.get $y\n",
    "call $write\n",
    "i32.const 0\n",
    "if\n",
    "local.get $x\n",
    "global.set $y\n",
    "else\n",
    "i32.const 7\n",
    "global.set $y\n",
    "end\n",
    "global.get $y\n",
    "call $write\n",
    "i32.const 1\n",
    "if\n",
    "local.get $x\n",
    "global.set $y\n",
    "else\n",
    "i32.const 7\n",
    "global.set $y\n",
    "end\n",
    "global.get $y\n",
    "call $write\n",
    "i32.const 0\n",
    "if\n",
    "local.get $x\n",
    "global.set $y\n",
    "else\n",
    "i32.const 7\n",
    "global.set $y\n",
    "end\n",
    "global.get $y\n",
    "call $write\n",
    "i32.const 0\n",
    "if\n",
    "i32.const 5\n",
    "call $write\n",
    "else\n",
    "i32.const 9\n",
    "call $write\n",
    "end\n",
    ")\n",
    "(func $program\n",
    "i32.const 7\n",
    "global.set $x\n",
    "call $q\n",
    "global.get $x\n",
    "call $write\n",
    ")\n",
    "(memory 1)\n",
    "(start $program)\n",
    ")\n",
    "```"
   ]
  },
  {
   "cell_type": "code",
   "execution_count": null,
   "metadata": {},
   "outputs": [],
   "source": [
    "compileString(\"\"\"\n",
    "program p;\n",
    "  const seven = (9 mod 3 + 5 * 3) div 2;\n",
    "  type int = integer;\n",
    "  var x, y: integer;\n",
    "  procedure q;\n",
    "    const sotrue = true and true;\n",
    "    const sofalse = false and true;\n",
    "    const alsotrue = false or true;\n",
    "    const alsofalse = false or false;\n",
    "    var x: int;\n",
    "    begin x := 3;\n",
    "      if sotrue then y := x else y := seven;\n",
    "      write(y); {writes 3}\n",
    "      if sofalse then y := x else y := seven;\n",
    "      write(y); {writes 7}\n",
    "      if alsotrue then y := x else y := seven;\n",
    "      write(y); {writes 3}\n",
    "      if alsofalse then y := x else y := seven;\n",
    "      write(y); {writes 7}\n",
    "      if not(true or false) then write(5) else write(9)\n",
    "    end;\n",
    "  begin x := 7; q(); write(x) {writes 7}\n",
    "  end\n",
    "\"\"\", 'folding.wat', target = 'wat')"
   ]
  },
  {
   "cell_type": "code",
   "execution_count": null,
   "metadata": {},
   "outputs": [],
   "source": [
    "!wat2wasm folding.wat"
   ]
  },
  {
   "cell_type": "markdown",
   "metadata": {},
   "source": [
    "#### Procedures\n",
    "```\n",
    "(module\n",
    "(import \"P0lib\" \"write\" (func $write (param i32)))\n",
    "(import \"P0lib\" \"writeln\" (func $writeln))\n",
    "(import \"P0lib\" \"read\" (func $read (result i32)))\n",
    "(global $g (mut i32) i32.const 0)\n",
    "(func $q (param $v i32)\n",
    "(local $l i32)\n",
    "i32.const 9\n",
    "local.set $l\n",
    "local.get $l\n",
    "local.get $v\n",
    "i32.gt_s\n",
    "if\n",
    "local.get $l\n",
    "call $write\n",
    "else\n",
    "global.get $g\n",
    "call $write\n",
    "end\n",
    ")\n",
    "(func $program\n",
    "i32.const 5\n",
    "global.set $g\n",
    "i32.const 7\n",
    "call $q\n",
    ")\n",
    "(memory 1)\n",
    "(start $program)\n",
    ")\n",
    "```"
   ]
  },
  {
   "cell_type": "code",
   "execution_count": null,
   "metadata": {},
   "outputs": [],
   "source": [
    "compileString(\"\"\"\n",
    "program p;\n",
    "  var g: integer;          {global variable}\n",
    "  procedure q(v: integer); {value parameter}\n",
    "    var l: integer;        {local variable}\n",
    "    begin\n",
    "      l := 9;\n",
    "      if l > v then\n",
    "         write(l)\n",
    "      else\n",
    "         write(g)\n",
    "    end;\n",
    "  begin\n",
    "    g := 5;\n",
    "    q(7)\n",
    "  end\n",
    "\"\"\", 'proc.wat', target = 'wat')"
   ]
  },
  {
   "cell_type": "code",
   "execution_count": null,
   "metadata": {},
   "outputs": [],
   "source": [
    "!wat2wasm proc.wat"
   ]
  },
  {
   "cell_type": "markdown",
   "metadata": {},
   "source": [
    "#### Illustrating Lack of Optimization\n",
    "```\n",
    "(module\n",
    "(import \"P0lib\" \"write\" (func $write (param i32)))\n",
    "(import \"P0lib\" \"writeln\" (func $writeln))\n",
    "(import \"P0lib\" \"read\" (func $read (result i32)))\n",
    "(global $x (mut i32) i32.const 0)\n",
    "(func $program\n",
    "i32.const 5\n",
    "global.set $x\n",
    "global.get $x\n",
    "i32.const 0\n",
    "i32.add\n",
    "global.set $x\n",
    "i32.const 0\n",
    "global.get $x\n",
    "i32.add\n",
    "global.set $x\n",
    "global.get $x\n",
    "i32.const 1\n",
    "i32.mul\n",
    "global.set $x\n",
    "i32.const 1\n",
    "global.get $x\n",
    "i32.mul\n",
    "global.set $x\n",
    "global.get $x\n",
    "i32.const 3\n",
    "i32.add\n",
    "global.set $x\n",
    "i32.const 3\n",
    "global.get $x\n",
    "i32.add\n",
    "global.set $x\n",
    ")\n",
    "(memory 1)\n",
    "(start $program)\n",
    ")\n",
    "```"
   ]
  },
  {
   "cell_type": "code",
   "execution_count": null,
   "metadata": {},
   "outputs": [],
   "source": [
    "compileString(\"\"\"\n",
    "program p;\n",
    "  var x: integer;\n",
    "  begin x := 5;\n",
    "    x := x + 0;\n",
    "    x := 0 + x;\n",
    "    x := x * 1;\n",
    "    x := 1 * x;\n",
    "    x := x + 3;\n",
    "    x := 3 + x\n",
    "  end\n",
    "\"\"\", target = 'wat')"
   ]
  },
  {
   "cell_type": "markdown",
   "metadata": {},
   "source": [
    "#### Record and Array Access\n",
    "```\n",
    "(module\n",
    "(import \"P0lib\" \"write\" (func $write (param i32)))\n",
    "(import \"P0lib\" \"writeln\" (func $writeln))\n",
    "(import \"P0lib\" \"read\" (func $read (result i32)))\n",
    "(global $y (mut i32) i32.const 0)\n",
    "(func $program\n",
    "global.get $y\n",
    "i32.const 3\n",
    "i32.sub\n",
    "i32.const 4\n",
    "i32.mul\n",
    "i32.const 0\n",
    "i32.add\n",
    "i32.const 9\n",
    "i32.store\n",
    "global.get $y\n",
    "i32.const 3\n",
    "i32.sub\n",
    "i32.const 4\n",
    "i32.mul\n",
    "i32.const 29\n",
    "i32.add\n",
    "i32.const 5\n",
    "i32.store\n",
    ")\n",
    "(memory 1)\n",
    "(start $program)\n",
    ")\n",
    "```"
   ]
  },
  {
   "cell_type": "code",
   "execution_count": null,
   "metadata": {
    "code_folding": []
   },
   "outputs": [],
   "source": [
    "compileString(\"\"\"\n",
    "program p;\n",
    "  type T = array [1..3] of integer;\n",
    "  type U = record f: boolean; g: T end;\n",
    "  var z: T;\n",
    "  var x: U;\n",
    "  var y: integer;\n",
    "  begin\n",
    "    z[y] := 9;\n",
    "    {y := y + 3;\n",
    "    x.f := true;}\n",
    "    x.g[y] := 5\n",
    "  end\n",
    "\"\"\",  target = 'wat')"
   ]
  },
  {
   "cell_type": "code",
   "execution_count": null,
   "metadata": {},
   "outputs": [],
   "source": [
    "!wat2wasm recarray.wat"
   ]
  },
  {
   "cell_type": "markdown",
   "metadata": {},
   "source": [
    "#### Two-dimensional Array\n",
    "```\n",
    "(module\n",
    "(import \"P0lib\" \"write\" (func $write (param i32)))\n",
    "(import \"P0lib\" \"writeln\" (func $writeln))\n",
    "(import \"P0lib\" \"read\" (func $read (result i32)))\n",
    "(global $y (mut i32) i32.const 0)\n",
    "(func $program\n",
    "global.get $y\n",
    "i32.const 3\n",
    "i32.sub\n",
    "i32.const 22\n",
    "i32.mul\n",
    "i32.const 0\n",
    "i32.add\n",
    "i32.const 8\n",
    "i32.add\n",
    "i32.const 1\n",
    "i32.add\n",
    "i32.const 0\n",
    "i32.store\n",
    "global.get $y\n",
    "i32.const 3\n",
    "i32.sub\n",
    "i32.const 22\n",
    "i32.mul\n",
    "i32.const 0\n",
    "i32.add\n",
    "global.get $y\n",
    "i32.const 1\n",
    "i32.add\n",
    "i32.const 1\n",
    "i32.sub\n",
    "i32.const 2\n",
    "i32.mul\n",
    "i32.add\n",
    "i32.const 0\n",
    "i32.add\n",
    "i32.const 1\n",
    "i32.store\n",
    ")\n",
    "(memory 1)\n",
    "(start $program)\n",
    ")\n",
    "```"
   ]
  },
  {
   "cell_type": "code",
   "execution_count": null,
   "metadata": {},
   "outputs": [],
   "source": [
    "compileString(\"\"\"\n",
    "program p;\n",
    "  type R = record f, g: boolean end;\n",
    "  type S = array [1..11] of R;\n",
    "  type T = array [3..9] of S;\n",
    "  var x: T; \n",
    "  var y: integer;\n",
    "  begin\n",
    "    x[y][5].g := false;\n",
    "    x[y][y + 1].f := true\n",
    "  end\n",
    "\"\"\", 'array2d.wat', target = 'wat')"
   ]
  },
  {
   "cell_type": "code",
   "execution_count": null,
   "metadata": {},
   "outputs": [],
   "source": [
    "!wat2wasm array2d.wat"
   ]
  },
  {
   "cell_type": "markdown",
   "metadata": {},
   "source": [
    "#### Assignments\n",
    "```\n",
    "(module\n",
    "(import \"P0lib\" \"write\" (func $write (param i32)))\n",
    "(import \"P0lib\" \"writeln\" (func $writeln))\n",
    "(import \"P0lib\" \"read\" (func $read (result i32)))\n",
    "(global $x (mut i32) i32.const 0)\n",
    "(global $y (mut i32) i32.const 0)\n",
    "(global $z (mut i32) i32.const 0)\n",
    "(func $program\n",
    "i32.const 3\n",
    "global.set $z\n",
    "global.get $y\n",
    "i32.const 7\n",
    "i32.mul\n",
    "global.get $x\n",
    "i32.add\n",
    "global.set $z\n",
    "i32.const 0\n",
    "global.set $z\n",
    ")\n",
    "(memory 1)\n",
    "(start $program)\n",
    ")\n",
    "```"
   ]
  },
  {
   "cell_type": "code",
   "execution_count": null,
   "metadata": {},
   "outputs": [],
   "source": [
    "compileString(\"\"\"\n",
    "program p;\n",
    "  var x, y, z: integer;\n",
    "  begin\n",
    "    z := 3;\n",
    "    z := x + y * 7;\n",
    "    z := 0\n",
    "  end\n",
    "\"\"\",  target = 'wat')"
   ]
  },
  {
   "cell_type": "code",
   "execution_count": null,
   "metadata": {},
   "outputs": [],
   "source": [
    "!wat2wasm assign.wat"
   ]
  },
  {
   "cell_type": "markdown",
   "metadata": {},
   "source": [
    "#### Relations\n",
    "```\n",
    "(module\n",
    "(import \"P0lib\" \"write\" (func $write (param i32)))\n",
    "(import \"P0lib\" \"writeln\" (func $writeln))\n",
    "(import \"P0lib\" \"read\" (func $read (result i32)))\n",
    "(global $x (mut i32) i32.const 0)\n",
    "(global $y (mut i32) i32.const 0)\n",
    "(func $program\n",
    "global.get $x\n",
    "global.get $y\n",
    "i32.gt_s\n",
    "if\n",
    "i32.const 0\n",
    "global.set $x\n",
    "end\n",
    ")\n",
    "(memory 1)\n",
    "(start $program)\n",
    ")\n",
    "```"
   ]
  },
  {
   "cell_type": "code",
   "execution_count": null,
   "metadata": {},
   "outputs": [],
   "source": [
    "compileString(\"\"\"\n",
    "program p;\n",
    "  var x, y: integer;\n",
    "  begin\n",
    "    if x > y then x := 0\n",
    "  end\n",
    "\"\"\", target = 'wat')"
   ]
  },
  {
   "cell_type": "code",
   "execution_count": null,
   "metadata": {},
   "outputs": [],
   "source": []
  }
 ],
 "metadata": {
  "kernelspec": {
   "display_name": "Python 3",
   "language": "python",
   "name": "python3"
  },
  "language_info": {
   "codemirror_mode": {
    "name": "ipython",
    "version": 3
   },
   "file_extension": ".py",
   "mimetype": "text/x-python",
   "name": "python",
   "nbconvert_exporter": "python",
   "pygments_lexer": "ipython3",
   "version": "3.7.6"
  },
  "toc": {
   "base_numbering": 1,
   "nav_menu": {},
   "number_sections": false,
   "sideBar": false,
   "skip_h1_title": true,
   "title_cell": "Table of Contents",
   "title_sidebar": "Contents",
   "toc_cell": false,
   "toc_position": {},
   "toc_section_display": true,
   "toc_window_display": false
  }
 },
 "nbformat": 4,
 "nbformat_minor": 4
}
