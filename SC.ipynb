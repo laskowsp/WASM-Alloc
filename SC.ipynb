{
 "cells": [
  {
   "cell_type": "markdown",
   "metadata": {},
   "source": [
    "## P0 Scanner\n",
    "#### Original Author: Emil Sekerinski, February 2017; updated February 2019\n",
    "The scanner reads the characters of the source consecutively and recognizes symbols they form:\n",
    "- procedure `init(src)` initializes the scanner\n",
    "- procedure `getSym()` recognizes the next symbol and assigns it to variables `sym` and `val`.\n",
    "- procedure `mark(msg)` prints an error message at the current location in the source.\n",
    "\n",
    "Symbols are encoded by integer constants."
   ]
  },
  {
   "cell_type": "code",
   "execution_count": 7,
   "metadata": {},
   "outputs": [],
   "source": [
    "TIMES = 1; DIV = 2; MOD = 3; AND = 4; PLUS = 5; MINUS = 6\n",
    "OR = 7; EQ = 8; NE = 9; LT = 10; GT = 11; LE = 12; GE = 13\n",
    "PERIOD = 14; COMMA = 15; COLON = 16; RPAREN = 17; RBRAK = 18\n",
    "OF = 19; THEN = 20; DO = 21; LPAREN = 22; LBRAK = 23; NOT = 24\n",
    "BECOMES = 25; NUMBER = 26; IDENT = 27; SEMICOLON = 28\n",
    "END = 29; ELSE = 30; IF = 31; WHILE = 32; ARRAY = 33\n",
    "RECORD = 34; CONST = 35; TYPE = 36; VAR = 37; PROCEDURE = 38\n",
    "BEGIN = 39; PROGRAM = 40; EOF = 41; NEW = 42; REFERENCE = 43; FREE = 44"
   ]
  },
  {
   "cell_type": "markdown",
   "metadata": {},
   "source": [
    "Following variables determine the state of the scanner:\n",
    "- `(line, pos)` is the location of the current symbol in source\n",
    "- `(lastline, lastpos)` is used to more accurately report errors\n",
    "- `(errline, errpos)` is used to suppress multiple errors at the same location\n",
    "- `ch` is the current character\n",
    "- `sym` the current symbol\n",
    "- if `sym` is `NUMBER`, `val` is the value of the number\n",
    "- if `sym` is `IDENT`, `val` is the identifier string\n",
    "- `source` is the string with the source program\n",
    "\n",
    "The source is specified as a parameter to the procedure `init`:"
   ]
  },
  {
   "cell_type": "code",
   "execution_count": 8,
   "metadata": {},
   "outputs": [],
   "source": [
    "def init(src):\n",
    "    global line, lastline, errline, pos, lastpos, errpos\n",
    "    global sym, val, error, source, index\n",
    "    line, lastline, errline = 1, 1, 1\n",
    "    pos, lastpos, errpos = 0, 0, 0\n",
    "    sym, val, error, source, index = None, None, False, src, 0\n",
    "    getChar(); getSym()"
   ]
  },
  {
   "cell_type": "markdown",
   "metadata": {},
   "source": [
    "Procedure `getChar()` assigns the next character in `ch`, or assigns `chr(0)` at the end of the source. Variables `line`, `pos` are updated with the current location in the source and `lastline`, `lastpos` are updated with the location of the previously read character."
   ]
  },
  {
   "cell_type": "code",
   "execution_count": 9,
   "metadata": {},
   "outputs": [],
   "source": [
    "def getChar():\n",
    "    global line, lastline, pos, lastpos, ch, index\n",
    "    if index == len(source): ch = chr(0)\n",
    "    else:\n",
    "        ch, index = source[index], index + 1\n",
    "        lastpos = pos\n",
    "        if ch == '\\n':\n",
    "            pos, line = 0, line + 1\n",
    "        else:\n",
    "            lastline, pos = line, pos + 1"
   ]
  },
  {
   "cell_type": "markdown",
   "metadata": {},
   "source": [
    "Procedure `mark(msg)` prints an error message with the current location in the source. To avoid a cascade of errors, only one error message at a source location is printed."
   ]
  },
  {
   "cell_type": "code",
   "execution_count": 10,
   "metadata": {},
   "outputs": [],
   "source": [
    "def mark(msg):\n",
    "    global errline, errpos, error\n",
    "    if lastline > errline or lastpos > errpos:\n",
    "        print('error: line', lastline, 'pos', lastpos, msg)\n",
    "    errline, errpos, error = lastline, lastpos, True"
   ]
  },
  {
   "cell_type": "markdown",
   "metadata": {},
   "source": [
    "Procedure `number()` parses\n",
    "\n",
    "    number ::= digit {digit}\n",
    "    digit ::= '0' | ... | '9'\n",
    "\n",
    "If the number fits in 32 bits, sets `sym` to `NUMBER` and assigns to number to `val`, otherwise reports an error."
   ]
  },
  {
   "cell_type": "code",
   "execution_count": 11,
   "metadata": {
    "code_folding": []
   },
   "outputs": [],
   "source": [
    "def number():\n",
    "    global sym, val\n",
    "    sym, val = NUMBER, 0\n",
    "    while '0' <= ch <= '9':\n",
    "        val = 10 * val + int(ch)\n",
    "        getChar()\n",
    "    if val >= 2**31:\n",
    "        mark('number too large'); val = 0"
   ]
  },
  {
   "cell_type": "markdown",
   "metadata": {},
   "source": [
    "Procedure `identKW()` parses\n",
    "\n",
    "    identKW ::= identifier - keyword | keyword\n",
    "    identifier ::= letter {letter | digit}\n",
    "    letter ::= 'A' | ... | 'Z' | 'a' | ... | 'z'\n",
    "    keyword ::= 'div' | 'mod' | 'and' | 'or' | 'of' | 'then' | 'do' | 'not' | 'end' | 'else' | 'if' | 'while' |\n",
    "                         'array' | 'record' | 'const' | 'type' | 'var' | 'procedure' | 'begin' | 'program' \n",
    "                         | 'new' | 'reference'\n",
    "\n",
    "The longest sequence of character that matches `letter {letter | digit}` is read. If that sequence is a keyword, `sym` is set accordingly, otherwise `sym` is set to `IDENT`."
   ]
  },
  {
   "cell_type": "code",
   "execution_count": 13,
   "metadata": {},
   "outputs": [],
   "source": [
    "KEYWORDS = \\\n",
    "    {'div': DIV, 'mod': MOD, 'and': AND, 'or': OR, 'of': OF, 'then': THEN,\n",
    "    'do': DO, 'not': NOT, 'end': END, 'else': ELSE, 'if': IF, 'while': WHILE,\n",
    "    'array': ARRAY, 'record': RECORD, 'const': CONST, 'type': TYPE,\n",
    "    'var': VAR, 'procedure': PROCEDURE, 'begin': BEGIN, 'program': PROGRAM, 'new': NEW, 'reference': REFERENCE,\n",
    "    'free': FREE}\n",
    "\n",
    "def identKW():\n",
    "    global sym, val\n",
    "    start = index - 1\n",
    "    while ('A' <= ch <= 'Z') or ('a' <= ch <= 'z') or \\\n",
    "          ('0' <= ch <= '9'): getChar()\n",
    "    val = source[start:index-1]\n",
    "    sym = KEYWORDS[val] if val in KEYWORDS else IDENT"
   ]
  },
  {
   "cell_type": "markdown",
   "metadata": {},
   "source": [
    "Procedure `comment()` parses\n",
    "\n",
    "    comment ::= '{' {character} '}'\n",
    "    \n",
    "If a comment is not terminated, an error is reported, otherwise the comment is skipped."
   ]
  },
  {
   "cell_type": "code",
   "execution_count": null,
   "metadata": {},
   "outputs": [],
   "source": [
    "def comment():\n",
    "    while chr(0) != ch != '}': getChar()\n",
    "    if ch == chr(0): mark('comment not terminated')\n",
    "    else: getChar()"
   ]
  },
  {
   "cell_type": "markdown",
   "metadata": {},
   "source": [
    "Procedure `getSym()` parses\n",
    "\n",
    "    symbol ::= { blank } ( identKW | number | comment | '*' | '+' | '-' | '=' | '<>' |\n",
    "                        '<' | '<=' | '>' | '>=' | ';' | ',' | ':' | '=' | '.' | '(' |  ')' | '[' | ']' )\n",
    "    blank ::= chr(0) | … | ' '\n",
    "\n",
    "If a valid symbol is recognized, `sym` is set accordingly, otherwise an error is reported. The longest match is used for recognizing operators. Blanks are skipped. At the end of the source, `sym` is set to `EOF`."
   ]
  },
  {
   "cell_type": "code",
   "execution_count": null,
   "metadata": {},
   "outputs": [],
   "source": [
    "def getSym():\n",
    "    global sym\n",
    "    while chr(0) < ch <= ' ': getChar()\n",
    "    if 'A' <= ch <= 'Z' or 'a' <= ch <= 'z': identKW()\n",
    "    elif '0' <= ch <= '9': number()\n",
    "    elif ch == '{': comment(); getSym()\n",
    "    elif ch == '*': getChar(); sym = TIMES\n",
    "    elif ch == '+': getChar(); sym = PLUS\n",
    "    elif ch == '-': getChar(); sym = MINUS\n",
    "    elif ch == '=': getChar(); sym = EQ\n",
    "    elif ch == '<':\n",
    "        getChar()\n",
    "        if ch == '=': getChar(); sym = LE\n",
    "        elif ch == '>': getChar(); sym = NE\n",
    "        else: sym = LT\n",
    "    elif ch == '>':\n",
    "        getChar()\n",
    "        if ch == '=': getChar(); sym = GE\n",
    "        else: sym = GT\n",
    "    elif ch == ';': getChar(); sym = SEMICOLON\n",
    "    elif ch == ',': getChar(); sym = COMMA\n",
    "    elif ch == ':':\n",
    "        getChar()\n",
    "        if ch == '=': getChar(); sym = BECOMES\n",
    "        else: sym = COLON\n",
    "    elif ch == '.': getChar(); sym = PERIOD\n",
    "    elif ch == '(': getChar(); sym = LPAREN\n",
    "    elif ch == ')': getChar(); sym = RPAREN\n",
    "    elif ch == '[': getChar(); sym = LBRAK\n",
    "    elif ch == ']': getChar(); sym = RBRAK\n",
    "    elif ch == chr(0): sym = EOF\n",
    "    else: mark('illegal character'); getChar(); sym = None"
   ]
  },
  {
   "cell_type": "code",
   "execution_count": null,
   "metadata": {},
   "outputs": [],
   "source": []
  },
  {
   "cell_type": "code",
   "execution_count": null,
   "metadata": {},
   "outputs": [],
   "source": []
  }
 ],
 "metadata": {
  "kernelspec": {
   "display_name": "Python 3",
   "language": "python",
   "name": "python3"
  },
  "language_info": {
   "codemirror_mode": {
    "name": "ipython",
    "version": 3
   },
   "file_extension": ".py",
   "mimetype": "text/x-python",
   "name": "python",
   "nbconvert_exporter": "python",
   "pygments_lexer": "ipython3",
   "version": "3.7.4"
  },
  "toc": {
   "base_numbering": 1,
   "nav_menu": {},
   "number_sections": false,
   "sideBar": false,
   "skip_h1_title": true,
   "title_cell": "Table of Contents",
   "title_sidebar": "Contents",
   "toc_cell": false,
   "toc_position": {},
   "toc_section_display": true,
   "toc_window_display": false
  }
 },
 "nbformat": 4,
 "nbformat_minor": 2
}
